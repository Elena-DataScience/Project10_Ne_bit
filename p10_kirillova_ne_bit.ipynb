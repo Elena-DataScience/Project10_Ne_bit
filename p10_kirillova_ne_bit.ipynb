{
 "cells": [
  {
   "cell_type": "markdown",
   "metadata": {},
   "source": [
    "# Определение стоимости автомобилей"
   ]
  },
  {
   "cell_type": "markdown",
   "metadata": {},
   "source": [
    "Сервис по продаже автомобилей с пробегом «Не бит, не крашен» разрабатывает приложение для привлечения новых клиентов. В нём можно быстро узнать рыночную стоимость своего автомобиля. В вашем распоряжении исторические данные: технические характеристики, комплектации и цены автомобилей. Вам нужно построить модель для определения стоимости. \n",
    "\n",
    "Заказчику важны:\n",
    "\n",
    "- качество предсказания;\n",
    "- скорость предсказания;\n",
    "- время обучения."
   ]
  },
  {
   "cell_type": "markdown",
   "metadata": {},
   "source": [
    "## Подготовка данных"
   ]
  },
  {
   "cell_type": "code",
   "execution_count": 1,
   "metadata": {},
   "outputs": [],
   "source": [
    "import pandas as pd\n",
    "import numpy as np\n",
    "\n",
    "import warnings\n",
    "warnings.filterwarnings(\"ignore\")\n",
    "\n",
    "import matplotlib.pyplot as plt\n",
    "\n",
    "import seaborn as sns\n",
    "\n",
    "from sklearn.preprocessing import OrdinalEncoder, StandardScaler\n",
    "\n",
    "from sklearn.model_selection import cross_val_score, train_test_split, GridSearchCV\n",
    "\n",
    "from sklearn.linear_model import LinearRegression\n",
    "from catboost import CatBoostRegressor\n",
    "from lightgbm import LGBMRegressor\n",
    "\n",
    "from sklearn.metrics import mean_squared_error"
   ]
  },
  {
   "cell_type": "code",
   "execution_count": 2,
   "metadata": {},
   "outputs": [],
   "source": [
    "try:\n",
    "    autos = pd.read_csv('/datasets/autos.csv') \n",
    "except:\n",
    "    autos = pd.read_csv('/datasets/autos.csv')"
   ]
  },
  {
   "cell_type": "code",
   "execution_count": 3,
   "metadata": {},
   "outputs": [
    {
     "data": {
      "text/html": [
       "<div>\n",
       "<style scoped>\n",
       "    .dataframe tbody tr th:only-of-type {\n",
       "        vertical-align: middle;\n",
       "    }\n",
       "\n",
       "    .dataframe tbody tr th {\n",
       "        vertical-align: top;\n",
       "    }\n",
       "\n",
       "    .dataframe thead th {\n",
       "        text-align: right;\n",
       "    }\n",
       "</style>\n",
       "<table border=\"1\" class=\"dataframe\">\n",
       "  <thead>\n",
       "    <tr style=\"text-align: right;\">\n",
       "      <th></th>\n",
       "      <th>DateCrawled</th>\n",
       "      <th>Price</th>\n",
       "      <th>VehicleType</th>\n",
       "      <th>RegistrationYear</th>\n",
       "      <th>Gearbox</th>\n",
       "      <th>Power</th>\n",
       "      <th>Model</th>\n",
       "      <th>Kilometer</th>\n",
       "      <th>RegistrationMonth</th>\n",
       "      <th>FuelType</th>\n",
       "      <th>Brand</th>\n",
       "      <th>Repaired</th>\n",
       "      <th>DateCreated</th>\n",
       "      <th>NumberOfPictures</th>\n",
       "      <th>PostalCode</th>\n",
       "      <th>LastSeen</th>\n",
       "    </tr>\n",
       "  </thead>\n",
       "  <tbody>\n",
       "    <tr>\n",
       "      <th>0</th>\n",
       "      <td>2016-03-24 11:52:17</td>\n",
       "      <td>480</td>\n",
       "      <td>NaN</td>\n",
       "      <td>1993</td>\n",
       "      <td>manual</td>\n",
       "      <td>0</td>\n",
       "      <td>golf</td>\n",
       "      <td>150000</td>\n",
       "      <td>0</td>\n",
       "      <td>petrol</td>\n",
       "      <td>volkswagen</td>\n",
       "      <td>NaN</td>\n",
       "      <td>2016-03-24 00:00:00</td>\n",
       "      <td>0</td>\n",
       "      <td>70435</td>\n",
       "      <td>2016-04-07 03:16:57</td>\n",
       "    </tr>\n",
       "    <tr>\n",
       "      <th>1</th>\n",
       "      <td>2016-03-24 10:58:45</td>\n",
       "      <td>18300</td>\n",
       "      <td>coupe</td>\n",
       "      <td>2011</td>\n",
       "      <td>manual</td>\n",
       "      <td>190</td>\n",
       "      <td>NaN</td>\n",
       "      <td>125000</td>\n",
       "      <td>5</td>\n",
       "      <td>gasoline</td>\n",
       "      <td>audi</td>\n",
       "      <td>yes</td>\n",
       "      <td>2016-03-24 00:00:00</td>\n",
       "      <td>0</td>\n",
       "      <td>66954</td>\n",
       "      <td>2016-04-07 01:46:50</td>\n",
       "    </tr>\n",
       "    <tr>\n",
       "      <th>2</th>\n",
       "      <td>2016-03-14 12:52:21</td>\n",
       "      <td>9800</td>\n",
       "      <td>suv</td>\n",
       "      <td>2004</td>\n",
       "      <td>auto</td>\n",
       "      <td>163</td>\n",
       "      <td>grand</td>\n",
       "      <td>125000</td>\n",
       "      <td>8</td>\n",
       "      <td>gasoline</td>\n",
       "      <td>jeep</td>\n",
       "      <td>NaN</td>\n",
       "      <td>2016-03-14 00:00:00</td>\n",
       "      <td>0</td>\n",
       "      <td>90480</td>\n",
       "      <td>2016-04-05 12:47:46</td>\n",
       "    </tr>\n",
       "    <tr>\n",
       "      <th>3</th>\n",
       "      <td>2016-03-17 16:54:04</td>\n",
       "      <td>1500</td>\n",
       "      <td>small</td>\n",
       "      <td>2001</td>\n",
       "      <td>manual</td>\n",
       "      <td>75</td>\n",
       "      <td>golf</td>\n",
       "      <td>150000</td>\n",
       "      <td>6</td>\n",
       "      <td>petrol</td>\n",
       "      <td>volkswagen</td>\n",
       "      <td>no</td>\n",
       "      <td>2016-03-17 00:00:00</td>\n",
       "      <td>0</td>\n",
       "      <td>91074</td>\n",
       "      <td>2016-03-17 17:40:17</td>\n",
       "    </tr>\n",
       "    <tr>\n",
       "      <th>4</th>\n",
       "      <td>2016-03-31 17:25:20</td>\n",
       "      <td>3600</td>\n",
       "      <td>small</td>\n",
       "      <td>2008</td>\n",
       "      <td>manual</td>\n",
       "      <td>69</td>\n",
       "      <td>fabia</td>\n",
       "      <td>90000</td>\n",
       "      <td>7</td>\n",
       "      <td>gasoline</td>\n",
       "      <td>skoda</td>\n",
       "      <td>no</td>\n",
       "      <td>2016-03-31 00:00:00</td>\n",
       "      <td>0</td>\n",
       "      <td>60437</td>\n",
       "      <td>2016-04-06 10:17:21</td>\n",
       "    </tr>\n",
       "  </tbody>\n",
       "</table>\n",
       "</div>"
      ],
      "text/plain": [
       "           DateCrawled  Price VehicleType  RegistrationYear Gearbox  Power  \\\n",
       "0  2016-03-24 11:52:17    480         NaN              1993  manual      0   \n",
       "1  2016-03-24 10:58:45  18300       coupe              2011  manual    190   \n",
       "2  2016-03-14 12:52:21   9800         suv              2004    auto    163   \n",
       "3  2016-03-17 16:54:04   1500       small              2001  manual     75   \n",
       "4  2016-03-31 17:25:20   3600       small              2008  manual     69   \n",
       "\n",
       "   Model  Kilometer  RegistrationMonth  FuelType       Brand Repaired  \\\n",
       "0   golf     150000                  0    petrol  volkswagen      NaN   \n",
       "1    NaN     125000                  5  gasoline        audi      yes   \n",
       "2  grand     125000                  8  gasoline        jeep      NaN   \n",
       "3   golf     150000                  6    petrol  volkswagen       no   \n",
       "4  fabia      90000                  7  gasoline       skoda       no   \n",
       "\n",
       "           DateCreated  NumberOfPictures  PostalCode             LastSeen  \n",
       "0  2016-03-24 00:00:00                 0       70435  2016-04-07 03:16:57  \n",
       "1  2016-03-24 00:00:00                 0       66954  2016-04-07 01:46:50  \n",
       "2  2016-03-14 00:00:00                 0       90480  2016-04-05 12:47:46  \n",
       "3  2016-03-17 00:00:00                 0       91074  2016-03-17 17:40:17  \n",
       "4  2016-03-31 00:00:00                 0       60437  2016-04-06 10:17:21  "
      ]
     },
     "metadata": {},
     "output_type": "display_data"
    },
    {
     "name": "stdout",
     "output_type": "stream",
     "text": [
      "-----------------------------------------------------------------\n",
      "<class 'pandas.core.frame.DataFrame'>\n",
      "RangeIndex: 354369 entries, 0 to 354368\n",
      "Data columns (total 16 columns):\n",
      " #   Column             Non-Null Count   Dtype \n",
      "---  ------             --------------   ----- \n",
      " 0   DateCrawled        354369 non-null  object\n",
      " 1   Price              354369 non-null  int64 \n",
      " 2   VehicleType        316879 non-null  object\n",
      " 3   RegistrationYear   354369 non-null  int64 \n",
      " 4   Gearbox            334536 non-null  object\n",
      " 5   Power              354369 non-null  int64 \n",
      " 6   Model              334664 non-null  object\n",
      " 7   Kilometer          354369 non-null  int64 \n",
      " 8   RegistrationMonth  354369 non-null  int64 \n",
      " 9   FuelType           321474 non-null  object\n",
      " 10  Brand              354369 non-null  object\n",
      " 11  Repaired           283215 non-null  object\n",
      " 12  DateCreated        354369 non-null  object\n",
      " 13  NumberOfPictures   354369 non-null  int64 \n",
      " 14  PostalCode         354369 non-null  int64 \n",
      " 15  LastSeen           354369 non-null  object\n",
      "dtypes: int64(7), object(9)\n",
      "memory usage: 43.3+ MB\n"
     ]
    },
    {
     "data": {
      "text/plain": [
       "None"
      ]
     },
     "metadata": {},
     "output_type": "display_data"
    },
    {
     "name": "stdout",
     "output_type": "stream",
     "text": [
      "-----------------------------------------------------------------\n"
     ]
    },
    {
     "data": {
      "text/html": [
       "<div>\n",
       "<style scoped>\n",
       "    .dataframe tbody tr th:only-of-type {\n",
       "        vertical-align: middle;\n",
       "    }\n",
       "\n",
       "    .dataframe tbody tr th {\n",
       "        vertical-align: top;\n",
       "    }\n",
       "\n",
       "    .dataframe thead th {\n",
       "        text-align: right;\n",
       "    }\n",
       "</style>\n",
       "<table border=\"1\" class=\"dataframe\">\n",
       "  <thead>\n",
       "    <tr style=\"text-align: right;\">\n",
       "      <th></th>\n",
       "      <th>Price</th>\n",
       "      <th>RegistrationYear</th>\n",
       "      <th>Power</th>\n",
       "      <th>Kilometer</th>\n",
       "      <th>RegistrationMonth</th>\n",
       "      <th>NumberOfPictures</th>\n",
       "      <th>PostalCode</th>\n",
       "    </tr>\n",
       "  </thead>\n",
       "  <tbody>\n",
       "    <tr>\n",
       "      <th>count</th>\n",
       "      <td>354369.000000</td>\n",
       "      <td>354369.000000</td>\n",
       "      <td>354369.000000</td>\n",
       "      <td>354369.000000</td>\n",
       "      <td>354369.000000</td>\n",
       "      <td>354369.0</td>\n",
       "      <td>354369.000000</td>\n",
       "    </tr>\n",
       "    <tr>\n",
       "      <th>mean</th>\n",
       "      <td>4416.656776</td>\n",
       "      <td>2004.234448</td>\n",
       "      <td>110.094337</td>\n",
       "      <td>128211.172535</td>\n",
       "      <td>5.714645</td>\n",
       "      <td>0.0</td>\n",
       "      <td>50508.689087</td>\n",
       "    </tr>\n",
       "    <tr>\n",
       "      <th>std</th>\n",
       "      <td>4514.158514</td>\n",
       "      <td>90.227958</td>\n",
       "      <td>189.850405</td>\n",
       "      <td>37905.341530</td>\n",
       "      <td>3.726421</td>\n",
       "      <td>0.0</td>\n",
       "      <td>25783.096248</td>\n",
       "    </tr>\n",
       "    <tr>\n",
       "      <th>min</th>\n",
       "      <td>0.000000</td>\n",
       "      <td>1000.000000</td>\n",
       "      <td>0.000000</td>\n",
       "      <td>5000.000000</td>\n",
       "      <td>0.000000</td>\n",
       "      <td>0.0</td>\n",
       "      <td>1067.000000</td>\n",
       "    </tr>\n",
       "    <tr>\n",
       "      <th>25%</th>\n",
       "      <td>1050.000000</td>\n",
       "      <td>1999.000000</td>\n",
       "      <td>69.000000</td>\n",
       "      <td>125000.000000</td>\n",
       "      <td>3.000000</td>\n",
       "      <td>0.0</td>\n",
       "      <td>30165.000000</td>\n",
       "    </tr>\n",
       "    <tr>\n",
       "      <th>50%</th>\n",
       "      <td>2700.000000</td>\n",
       "      <td>2003.000000</td>\n",
       "      <td>105.000000</td>\n",
       "      <td>150000.000000</td>\n",
       "      <td>6.000000</td>\n",
       "      <td>0.0</td>\n",
       "      <td>49413.000000</td>\n",
       "    </tr>\n",
       "    <tr>\n",
       "      <th>75%</th>\n",
       "      <td>6400.000000</td>\n",
       "      <td>2008.000000</td>\n",
       "      <td>143.000000</td>\n",
       "      <td>150000.000000</td>\n",
       "      <td>9.000000</td>\n",
       "      <td>0.0</td>\n",
       "      <td>71083.000000</td>\n",
       "    </tr>\n",
       "    <tr>\n",
       "      <th>max</th>\n",
       "      <td>20000.000000</td>\n",
       "      <td>9999.000000</td>\n",
       "      <td>20000.000000</td>\n",
       "      <td>150000.000000</td>\n",
       "      <td>12.000000</td>\n",
       "      <td>0.0</td>\n",
       "      <td>99998.000000</td>\n",
       "    </tr>\n",
       "  </tbody>\n",
       "</table>\n",
       "</div>"
      ],
      "text/plain": [
       "               Price  RegistrationYear          Power      Kilometer  \\\n",
       "count  354369.000000     354369.000000  354369.000000  354369.000000   \n",
       "mean     4416.656776       2004.234448     110.094337  128211.172535   \n",
       "std      4514.158514         90.227958     189.850405   37905.341530   \n",
       "min         0.000000       1000.000000       0.000000    5000.000000   \n",
       "25%      1050.000000       1999.000000      69.000000  125000.000000   \n",
       "50%      2700.000000       2003.000000     105.000000  150000.000000   \n",
       "75%      6400.000000       2008.000000     143.000000  150000.000000   \n",
       "max     20000.000000       9999.000000   20000.000000  150000.000000   \n",
       "\n",
       "       RegistrationMonth  NumberOfPictures     PostalCode  \n",
       "count      354369.000000          354369.0  354369.000000  \n",
       "mean            5.714645               0.0   50508.689087  \n",
       "std             3.726421               0.0   25783.096248  \n",
       "min             0.000000               0.0    1067.000000  \n",
       "25%             3.000000               0.0   30165.000000  \n",
       "50%             6.000000               0.0   49413.000000  \n",
       "75%             9.000000               0.0   71083.000000  \n",
       "max            12.000000               0.0   99998.000000  "
      ]
     },
     "metadata": {},
     "output_type": "display_data"
    },
    {
     "name": "stdout",
     "output_type": "stream",
     "text": [
      "-----------------------------------------------------------------\n",
      "Кол-во пропусков:\n"
     ]
    },
    {
     "data": {
      "text/plain": [
       "DateCrawled              0\n",
       "Price                    0\n",
       "VehicleType          37490\n",
       "RegistrationYear         0\n",
       "Gearbox              19833\n",
       "Power                    0\n",
       "Model                19705\n",
       "Kilometer                0\n",
       "RegistrationMonth        0\n",
       "FuelType             32895\n",
       "Brand                    0\n",
       "Repaired             71154\n",
       "DateCreated              0\n",
       "NumberOfPictures         0\n",
       "PostalCode               0\n",
       "LastSeen                 0\n",
       "dtype: int64"
      ]
     },
     "metadata": {},
     "output_type": "display_data"
    },
    {
     "name": "stdout",
     "output_type": "stream",
     "text": [
      "-----------------------------------------------------------------\n",
      "Кол-во дубликатов - 4\n"
     ]
    }
   ],
   "source": [
    "display(autos.head(5))\n",
    "print('-----------------------------------------------------------------')\n",
    "\n",
    "display(autos.info())\n",
    "print('-----------------------------------------------------------------')\n",
    "\n",
    "display(autos.describe())\n",
    "print('-----------------------------------------------------------------')\n",
    "\n",
    "print('Кол-во пропусков:')\n",
    "display(autos.isna().sum())\n",
    "print('-----------------------------------------------------------------')\n",
    "\n",
    "print('Кол-во дубликатов -', autos.duplicated().sum())"
   ]
  },
  {
   "cell_type": "markdown",
   "metadata": {},
   "source": [
    "**Вывод:**\n",
    "\n",
    "1. Замечено наличие признаков, не влияющих на цену - DateCrawel, RegistrationMonth, DateCreated, NumberOfPictures, PostalCode и LastSeen - от них можно избавиться;\n",
    "2. В признаках имеются пропуски;\n",
    "3. В целевом признаке и признаке Power есть 0 - возможно есть и другие выбросы;\n",
    "4. В RegistrationYear указан минимальный год 1000 - возможно есть и другие выбросы; \n",
    "5. Замечено наличие дубликатов, от которых нужно избавиться;\n",
    "6. Скорректировать названия признаков;\n",
    "7. В признаках Gearbox и NotRepaired значения можно заменить на 1|0."
   ]
  },
  {
   "cell_type": "markdown",
   "metadata": {},
   "source": [
    "## Предобработка данных"
   ]
  },
  {
   "cell_type": "code",
   "execution_count": 4,
   "metadata": {},
   "outputs": [
    {
     "data": {
      "text/plain": [
       "Index(['date_crawled', 'price', 'vehicle_type', 'registration_year', 'gearbox',\n",
       "       'power', 'model', 'kilometer', 'registration_month', 'fuel_type',\n",
       "       'brand', 'repaired', 'date_created', 'number_of_pictures',\n",
       "       'postal_code', 'last_seen'],\n",
       "      dtype='object')"
      ]
     },
     "execution_count": 4,
     "metadata": {},
     "output_type": "execute_result"
    }
   ],
   "source": [
    "#Преобразования названий в змеиный стиль:\n",
    "autos.columns = autos.columns.str.replace(r\"([A-Z])\", r\" \\1\").str.lower().str.replace(' ', '_').str[1:]\n",
    "autos.columns"
   ]
  },
  {
   "cell_type": "code",
   "execution_count": 5,
   "metadata": {},
   "outputs": [],
   "source": [
    "#Избавление от дубликатов:\n",
    "autos.drop_duplicates(inplace=True)"
   ]
  },
  {
   "cell_type": "code",
   "execution_count": 6,
   "metadata": {},
   "outputs": [],
   "source": [
    "#Избавление от признаков, не влияющих на целевой признак:\n",
    "autos.drop(columns=['date_crawled', 'date_created', 'number_of_pictures',\n",
    "                    'postal_code', 'last_seen', 'registration_month'],\n",
    "           axis=1,\n",
    "           inplace=True)"
   ]
  },
  {
   "cell_type": "markdown",
   "metadata": {},
   "source": [
    "### Целевой признак price"
   ]
  },
  {
   "cell_type": "code",
   "execution_count": 7,
   "metadata": {},
   "outputs": [
    {
     "data": {
      "text/plain": [
       "0        10772\n",
       "500       5670\n",
       "1500      5394\n",
       "1000      4648\n",
       "1200      4594\n",
       "         ...  \n",
       "13180        1\n",
       "10879        1\n",
       "2683         1\n",
       "634          1\n",
       "8188         1\n",
       "Name: price, Length: 3731, dtype: int64"
      ]
     },
     "execution_count": 7,
     "metadata": {},
     "output_type": "execute_result"
    }
   ],
   "source": [
    "#Смотрим, сколько нулей в целевом признаке:\n",
    "autos.price.value_counts()"
   ]
  },
  {
   "cell_type": "code",
   "execution_count": 8,
   "metadata": {},
   "outputs": [],
   "source": [
    "#Удаляем все 0 из целевого признака:\n",
    "autos = autos.query('price > 0')"
   ]
  },
  {
   "cell_type": "code",
   "execution_count": 9,
   "metadata": {},
   "outputs": [
    {
     "data": {
      "image/png": "[encoded data removed]",
      "text/plain": [
       "<Figure size 1440x360 with 1 Axes>"
      ]
     },
     "metadata": {
      "needs_background": "light"
     },
     "output_type": "display_data"
    },
    {
     "data": {
      "image/png": "[encoded data removed]",
      "text/plain": [
       "<Figure size 720x216 with 1 Axes>"
      ]
     },
     "metadata": {
      "needs_background": "light"
     },
     "output_type": "display_data"
    }
   ],
   "source": [
    "#Строим гистограмму и ящик с усами для целевого признака: \n",
    "autos.price.hist(bins=200, figsize=(20,5))\n",
    "\n",
    "plt.figure(figsize=(10,3))\n",
    "sns.boxplot(data=autos.price, orient='h')\n",
    "plt.title('Ящик с усами для целевого признака')\n",
    "plt.show()"
   ]
  },
  {
   "cell_type": "code",
   "execution_count": 10,
   "metadata": {},
   "outputs": [
    {
     "data": {
      "text/plain": [
       "0.05      350.0\n",
       "0.95    14800.0\n",
       "Name: price, dtype: float64"
      ]
     },
     "execution_count": 10,
     "metadata": {},
     "output_type": "execute_result"
    }
   ],
   "source": [
    "#Так как на гистограмме и ящике с усами странные данные у нуля и длинный хвост возле 15000, смотрю квантили:\n",
    "autos.price.quantile([.05, 0.95])"
   ]
  },
  {
   "cell_type": "code",
   "execution_count": 11,
   "metadata": {},
   "outputs": [
    {
     "data": {
      "text/plain": [
       "0.09517365021988222"
      ]
     },
     "execution_count": 11,
     "metadata": {},
     "output_type": "execute_result"
    }
   ],
   "source": [
    "#Проверка доли строк, где цена меньше 350 и больше 14800:\n",
    "1 - autos.query('350 <= price <= 14800').shape[0] / autos.shape[0]"
   ]
  },
  {
   "cell_type": "code",
   "execution_count": 12,
   "metadata": {},
   "outputs": [],
   "source": [
    "#Отсечение 10% строк, где цена меньше 350 и больше 14800:\n",
    "autos = autos.query('350 <= price <= 14800')"
   ]
  },
  {
   "cell_type": "markdown",
   "metadata": {},
   "source": [
    "### Признак registrationyear"
   ]
  },
  {
   "cell_type": "code",
   "execution_count": 13,
   "metadata": {},
   "outputs": [
    {
     "data": {
      "text/plain": [
       "2000    20907\n",
       "2005    20811\n",
       "1999    20621\n",
       "2003    19217\n",
       "2001    19091\n",
       "        ...  \n",
       "1948        1\n",
       "1949        1\n",
       "5300        1\n",
       "8888        1\n",
       "2290        1\n",
       "Name: registration_year, Length: 130, dtype: int64"
      ]
     },
     "execution_count": 13,
     "metadata": {},
     "output_type": "execute_result"
    }
   ],
   "source": [
    "#Просмотр значений в registration_year:\n",
    "autos.registration_year.value_counts()"
   ]
  },
  {
   "cell_type": "code",
   "execution_count": 14,
   "metadata": {},
   "outputs": [
    {
     "data": {
      "text/html": [
       "<div>\n",
       "<style scoped>\n",
       "    .dataframe tbody tr th:only-of-type {\n",
       "        vertical-align: middle;\n",
       "    }\n",
       "\n",
       "    .dataframe tbody tr th {\n",
       "        vertical-align: top;\n",
       "    }\n",
       "\n",
       "    .dataframe thead th {\n",
       "        text-align: right;\n",
       "    }\n",
       "</style>\n",
       "<table border=\"1\" class=\"dataframe\">\n",
       "  <thead>\n",
       "    <tr style=\"text-align: right;\">\n",
       "      <th></th>\n",
       "      <th>quantity</th>\n",
       "    </tr>\n",
       "    <tr>\n",
       "      <th>registration_year</th>\n",
       "      <th></th>\n",
       "    </tr>\n",
       "  </thead>\n",
       "  <tbody>\n",
       "    <tr>\n",
       "      <th>1000</th>\n",
       "      <td>18</td>\n",
       "    </tr>\n",
       "    <tr>\n",
       "      <th>1001</th>\n",
       "      <td>1</td>\n",
       "    </tr>\n",
       "    <tr>\n",
       "      <th>1039</th>\n",
       "      <td>1</td>\n",
       "    </tr>\n",
       "    <tr>\n",
       "      <th>1111</th>\n",
       "      <td>1</td>\n",
       "    </tr>\n",
       "    <tr>\n",
       "      <th>1234</th>\n",
       "      <td>2</td>\n",
       "    </tr>\n",
       "    <tr>\n",
       "      <th>...</th>\n",
       "      <td>...</td>\n",
       "    </tr>\n",
       "    <tr>\n",
       "      <th>8500</th>\n",
       "      <td>1</td>\n",
       "    </tr>\n",
       "    <tr>\n",
       "      <th>8888</th>\n",
       "      <td>1</td>\n",
       "    </tr>\n",
       "    <tr>\n",
       "      <th>9000</th>\n",
       "      <td>2</td>\n",
       "    </tr>\n",
       "    <tr>\n",
       "      <th>9450</th>\n",
       "      <td>1</td>\n",
       "    </tr>\n",
       "    <tr>\n",
       "      <th>9999</th>\n",
       "      <td>10</td>\n",
       "    </tr>\n",
       "  </tbody>\n",
       "</table>\n",
       "<p>130 rows × 1 columns</p>\n",
       "</div>"
      ],
      "text/plain": [
       "                   quantity\n",
       "registration_year          \n",
       "1000                     18\n",
       "1001                      1\n",
       "1039                      1\n",
       "1111                      1\n",
       "1234                      2\n",
       "...                     ...\n",
       "8500                      1\n",
       "8888                      1\n",
       "9000                      2\n",
       "9450                      1\n",
       "9999                     10\n",
       "\n",
       "[130 rows x 1 columns]"
      ]
     },
     "execution_count": 14,
     "metadata": {},
     "output_type": "execute_result"
    }
   ],
   "source": [
    "annual = autos.pivot_table(index='registration_year', values='brand', aggfunc='count')\n",
    "annual.columns = ['quantity']\n",
    "annual"
   ]
  },
  {
   "cell_type": "code",
   "execution_count": 15,
   "metadata": {},
   "outputs": [
    {
     "data": {
      "image/png": "[encoded data removed]",
      "text/plain": [
       "<Figure size 1440x360 with 1 Axes>"
      ]
     },
     "metadata": {
      "needs_background": "light"
     },
     "output_type": "display_data"
    }
   ],
   "source": [
    "#Строим график для registrationyear: \n",
    "annual.plot.bar(figsize = (20,5))\n",
    "plt.title('Годы регистрации')\n",
    "plt.show()"
   ]
  },
  {
   "cell_type": "code",
   "execution_count": 16,
   "metadata": {},
   "outputs": [
    {
     "data": {
      "text/plain": [
       "'2016-04-07 14:36:58'"
      ]
     },
     "execution_count": 16,
     "metadata": {},
     "output_type": "execute_result"
    }
   ],
   "source": [
    "#Рассмотрим самый поздний год выгрузки:\n",
    "autos_ = pd.read_csv('/datasets/autos.csv')\n",
    "autos_.DateCrawled.max()"
   ]
  },
  {
   "cell_type": "code",
   "execution_count": 17,
   "metadata": {},
   "outputs": [],
   "source": [
    "#вряд ли авто ранее 1975 и позже 2016 (органичение данных) были поставлены на учет и на продажу\n",
    "#поэтому оставляю в таблице только годы регистрации с 1975 по 2016:\n",
    "autos = autos.query('1975 <= registration_year <= 2016')"
   ]
  },
  {
   "cell_type": "markdown",
   "metadata": {},
   "source": [
    "### Признак power"
   ]
  },
  {
   "cell_type": "code",
   "execution_count": 18,
   "metadata": {},
   "outputs": [
    {
     "data": {
      "text/plain": [
       "0        26795\n",
       "75       20640\n",
       "60       13045\n",
       "150      13008\n",
       "101      12106\n",
       "         ...  \n",
       "1082         1\n",
       "1079         1\n",
       "1703         1\n",
       "2729         1\n",
       "17019        1\n",
       "Name: power, Length: 627, dtype: int64"
      ]
     },
     "execution_count": 18,
     "metadata": {},
     "output_type": "execute_result"
    }
   ],
   "source": [
    "#Просмотр значений в power:\n",
    "autos.power.value_counts()"
   ]
  },
  {
   "cell_type": "code",
   "execution_count": 19,
   "metadata": {},
   "outputs": [
    {
     "data": {
      "text/plain": [
       "<AxesSubplot:>"
      ]
     },
     "execution_count": 19,
     "metadata": {},
     "output_type": "execute_result"
    },
    {
     "data": {
      "image/png": "[encoded data removed]",
      "text/plain": [
       "<Figure size 648x216 with 1 Axes>"
      ]
     },
     "metadata": {
      "needs_background": "light"
     },
     "output_type": "display_data"
    }
   ],
   "source": [
    "#Построение гистограммы power:\n",
    "autos.power.hist(bins=300, figsize=(9,3))"
   ]
  },
  {
   "cell_type": "code",
   "execution_count": 20,
   "metadata": {},
   "outputs": [
    {
     "data": {
      "text/plain": [
       "count    296131.000000\n",
       "mean        111.028275\n",
       "std         184.505329\n",
       "min           0.000000\n",
       "25%          75.000000\n",
       "50%         105.000000\n",
       "75%         140.000000\n",
       "max       20000.000000\n",
       "Name: power, dtype: float64"
      ]
     },
     "execution_count": 20,
     "metadata": {},
     "output_type": "execute_result"
    }
   ],
   "source": [
    "autos.power.describe()"
   ]
  },
  {
   "cell_type": "code",
   "execution_count": 21,
   "metadata": {},
   "outputs": [],
   "source": [
    "#поскольку самое мощное по состоянию на 2022 год легковое авто имеет 1600лс,\n",
    "#а самое слабое из представленных брендов авто - Citroen 2CV - имеет 9лс,  \n",
    "#то выкину из таблицы всё, что выше и ниже этих границ:\n",
    "autos = autos.query('9 <= power <= 1600')"
   ]
  },
  {
   "cell_type": "markdown",
   "metadata": {},
   "source": [
    "### Признак kilometer"
   ]
  },
  {
   "cell_type": "code",
   "execution_count": 22,
   "metadata": {},
   "outputs": [
    {
     "data": {
      "text/plain": [
       "150000    183628\n",
       "125000     29148\n",
       "100000     11366\n",
       "90000       9039\n",
       "80000       7752\n",
       "70000       6539\n",
       "60000       5584\n",
       "50000       4453\n",
       "40000       3436\n",
       "30000       2906\n",
       "20000       2331\n",
       "5000        2250\n",
       "10000        580\n",
       "Name: kilometer, dtype: int64"
      ]
     },
     "execution_count": 22,
     "metadata": {},
     "output_type": "execute_result"
    }
   ],
   "source": [
    "#Просмотр значений в kilometer:\n",
    "autos.kilometer.value_counts()"
   ]
  },
  {
   "cell_type": "markdown",
   "metadata": {},
   "source": [
    "В признаке kilometer выбросов нет и аномалий нет"
   ]
  },
  {
   "cell_type": "markdown",
   "metadata": {},
   "source": [
    "### Признак brand"
   ]
  },
  {
   "cell_type": "code",
   "execution_count": 23,
   "metadata": {},
   "outputs": [
    {
     "data": {
      "text/plain": [
       "volkswagen        58354\n",
       "opel              29855\n",
       "bmw               28889\n",
       "mercedes_benz     24458\n",
       "audi              22560\n",
       "ford              18500\n",
       "renault           12928\n",
       "peugeot            8945\n",
       "fiat               7018\n",
       "seat               5413\n",
       "skoda              4583\n",
       "smart              4449\n",
       "mazda              4446\n",
       "citroen            4007\n",
       "toyota             3855\n",
       "nissan             3602\n",
       "hyundai            2887\n",
       "volvo              2564\n",
       "mini               2491\n",
       "mitsubishi         2286\n",
       "honda              2270\n",
       "kia                1912\n",
       "suzuki             1848\n",
       "alfa_romeo         1846\n",
       "chevrolet          1347\n",
       "sonstige_autos     1225\n",
       "chrysler           1093\n",
       "dacia               785\n",
       "subaru              571\n",
       "daihatsu            557\n",
       "jeep                494\n",
       "saab                444\n",
       "porsche             390\n",
       "jaguar              372\n",
       "daewoo              366\n",
       "land_rover          362\n",
       "lancia              340\n",
       "rover               327\n",
       "trabant             222\n",
       "lada                151\n",
       "Name: brand, dtype: int64"
      ]
     },
     "execution_count": 23,
     "metadata": {},
     "output_type": "execute_result"
    }
   ],
   "source": [
    "autos.brand.value_counts()"
   ]
  },
  {
   "cell_type": "markdown",
   "metadata": {},
   "source": [
    "В признаке brand неявных дубликатов нет"
   ]
  },
  {
   "cell_type": "markdown",
   "metadata": {},
   "source": [
    "### Признак gearbox"
   ]
  },
  {
   "cell_type": "code",
   "execution_count": 24,
   "metadata": {},
   "outputs": [],
   "source": [
    "#Замена NaN на 'manual':\n",
    "autos.fillna({'gearbox':'manual'}, inplace=True)"
   ]
  },
  {
   "cell_type": "code",
   "execution_count": 25,
   "metadata": {},
   "outputs": [],
   "source": [
    "#Замена в gearbox значение manual на 1, auto - на 0:\n",
    "autos.loc[(autos.gearbox == 'manual'), 'gearbox'] = 1   \n",
    "autos.loc[(autos.gearbox == 'auto'), 'gearbox'] = 0"
   ]
  },
  {
   "cell_type": "code",
   "execution_count": 26,
   "metadata": {},
   "outputs": [],
   "source": [
    "autos.gearbox = autos.gearbox.astype('int')"
   ]
  },
  {
   "cell_type": "markdown",
   "metadata": {},
   "source": [
    "### Признак repaired"
   ]
  },
  {
   "cell_type": "code",
   "execution_count": 27,
   "metadata": {},
   "outputs": [],
   "source": [
    "#Замена NaN на 'yes', так как обычно любая подержанная машина была в ремонте:\n",
    "autos.fillna({'repaired':'yes'}, inplace=True)"
   ]
  },
  {
   "cell_type": "code",
   "execution_count": 28,
   "metadata": {},
   "outputs": [],
   "source": [
    "#заменяю в notrepaired значение yes на 1, no - на 0:\n",
    "autos.loc[(autos.repaired == 'yes'), 'repaired'] = 1\n",
    "autos.loc[(autos.repaired == 'no'), 'repaired'] = 0"
   ]
  },
  {
   "cell_type": "code",
   "execution_count": 29,
   "metadata": {},
   "outputs": [],
   "source": [
    "autos.repaired = autos.repaired.astype('int')"
   ]
  },
  {
   "cell_type": "markdown",
   "metadata": {},
   "source": [
    "### Признак model"
   ]
  },
  {
   "cell_type": "code",
   "execution_count": 30,
   "metadata": {},
   "outputs": [
    {
     "data": {
      "text/plain": [
       "golf                  22613\n",
       "other                 17963\n",
       "3er                   16108\n",
       "polo                   9730\n",
       "unknown                9544\n",
       "                      ...  \n",
       "gl                        2\n",
       "range_rover_evoque        2\n",
       "serie_2                   2\n",
       "serie_3                   1\n",
       "rangerover                1\n",
       "Name: model, Length: 250, dtype: int64"
      ]
     },
     "execution_count": 30,
     "metadata": {},
     "output_type": "execute_result"
    }
   ],
   "source": [
    "#Замена NaN на 'unknown':\n",
    "autos.fillna({'model':'unknown'}, inplace=True)\n",
    "autos.model.value_counts()"
   ]
  },
  {
   "cell_type": "markdown",
   "metadata": {},
   "source": [
    "### Признак vehicletype"
   ]
  },
  {
   "cell_type": "code",
   "execution_count": 31,
   "metadata": {},
   "outputs": [
    {
     "data": {
      "text/plain": [
       "sedan          76356\n",
       "small          64638\n",
       "wagon          54746\n",
       "bus            24453\n",
       "convertible    16423\n",
       "coupe          12311\n",
       "unknown         9206\n",
       "suv             8687\n",
       "other           2192\n",
       "Name: vehicle_type, dtype: int64"
      ]
     },
     "execution_count": 31,
     "metadata": {},
     "output_type": "execute_result"
    }
   ],
   "source": [
    "#Замена пропусков на unknown:\n",
    "autos.fillna({'vehicle_type':'unknown'}, inplace=True)\n",
    "autos.vehicle_type.value_counts()"
   ]
  },
  {
   "cell_type": "markdown",
   "metadata": {},
   "source": [
    "### Признак fueltype"
   ]
  },
  {
   "cell_type": "code",
   "execution_count": 32,
   "metadata": {},
   "outputs": [
    {
     "data": {
      "text/plain": [
       "petrol      171651\n",
       "gasoline     78636\n",
       "unknown      13456\n",
       "lpg           4527\n",
       "cng            467\n",
       "hybrid         154\n",
       "other           66\n",
       "electric        55\n",
       "Name: fuel_type, dtype: int64"
      ]
     },
     "execution_count": 32,
     "metadata": {},
     "output_type": "execute_result"
    }
   ],
   "source": [
    "autos.fillna({'fuel_type':'unknown'}, inplace=True)\n",
    "autos.fuel_type.value_counts()"
   ]
  },
  {
   "cell_type": "code",
   "execution_count": 33,
   "metadata": {},
   "outputs": [
    {
     "name": "stdout",
     "output_type": "stream",
     "text": [
      "<class 'pandas.core.frame.DataFrame'>\n",
      "Int64Index: 269012 entries, 2 to 354368\n",
      "Data columns (total 10 columns):\n",
      " #   Column             Non-Null Count   Dtype \n",
      "---  ------             --------------   ----- \n",
      " 0   price              269012 non-null  int64 \n",
      " 1   vehicle_type       269012 non-null  object\n",
      " 2   registration_year  269012 non-null  int64 \n",
      " 3   gearbox            269012 non-null  int64 \n",
      " 4   power              269012 non-null  int64 \n",
      " 5   model              269012 non-null  object\n",
      " 6   kilometer          269012 non-null  int64 \n",
      " 7   fuel_type          269012 non-null  object\n",
      " 8   brand              269012 non-null  object\n",
      " 9   repaired           269012 non-null  int64 \n",
      "dtypes: int64(6), object(4)\n",
      "memory usage: 22.6+ MB\n"
     ]
    }
   ],
   "source": [
    "autos.info()"
   ]
  },
  {
   "cell_type": "code",
   "execution_count": 34,
   "metadata": {},
   "outputs": [
    {
     "data": {
      "text/plain": [
       "price                1.000000\n",
       "registration_year    0.530652\n",
       "gearbox             -0.212265\n",
       "power                0.406937\n",
       "kilometer           -0.338210\n",
       "repaired            -0.233246\n",
       "Name: price, dtype: float64"
      ]
     },
     "execution_count": 34,
     "metadata": {},
     "output_type": "execute_result"
    }
   ],
   "source": [
    "autos.corr()['price']"
   ]
  },
  {
   "cell_type": "markdown",
   "metadata": {},
   "source": [
    "**Вывод:**\n",
    "\n",
    "1. Изменено/Удалено: \n",
    "    - Признаки, которые не влияют на целевой признак\n",
    "    - Верблюжий стиль в названиях\n",
    "    - Дубликаты\n",
    "    - Выбросы в целевом признаке и признаках\n",
    "    \n",
    "    \n",
    "2. Заполнены пропуски:\n",
    "    - gearbox значением 'manual', и заменила значения на 1|0\n",
    "    - notrepaired значением 'yes', и заменила значения на 1|0\n",
    "    - model, vehicletype, fueltype значением 'unknown'\n",
    "    \n",
    "  \n",
    "3. Цена зависит от: \n",
    "    - Прямо пропорционально от года регистрации, мощности\n",
    "    - Обратно пропорционально от пробега, ремонта, типа коробки\n",
    "    \n",
    "В результате обработки данных датафрейм сократился на 21%, однако данных (278 837 строк) достаточно для обучения моделей."
   ]
  },
  {
   "cell_type": "markdown",
   "metadata": {},
   "source": [
    "## Обучение моделей"
   ]
  },
  {
   "cell_type": "code",
   "execution_count": 35,
   "metadata": {},
   "outputs": [],
   "source": [
    "#Выдляем признаки и целевой признак:\n",
    "features_orig = autos.drop('price', axis=1)\n",
    "target = autos.price"
   ]
  },
  {
   "cell_type": "code",
   "execution_count": 36,
   "metadata": {},
   "outputs": [],
   "source": [
    "#Разделение на выборки:\n",
    "features_train, features_test, target_train, target_test = train_test_split(features_orig,\n",
    "                                                                            target, \n",
    "                                                                            test_size=.25,\n",
    "                                                                            random_state=12345)"
   ]
  },
  {
   "cell_type": "code",
   "execution_count": 37,
   "metadata": {},
   "outputs": [],
   "source": [
    "# прямое кодирование (для линейных моделей)\n",
    "features_train_ohe = pd.get_dummies(features_train, drop_first=True)\n",
    "features_test_ohe = pd.get_dummies(features_test, drop_first=True)\n",
    "# после прямого кодирования кол-во признаков в выборках будет отличаться\n",
    "# поэтому стоит удалить лишние признаки в каждой выборке\n",
    "\n",
    "# Найдем общие признаки между обучающей, валидационной и тестовой выборками\n",
    "common_columns = set(features_train_ohe.columns) & set(features_test_ohe.columns)\n",
    "\n",
    "# Оставим в каждой выборке только общие признаки\n",
    "features_train_ohe = features_train_ohe[list(common_columns)]\n",
    "features_test_ohe = features_test_ohe[list(common_columns)]"
   ]
  },
  {
   "cell_type": "code",
   "execution_count": 38,
   "metadata": {},
   "outputs": [],
   "source": [
    "# порядковое кодирование (для \"деревянных моделей\")\n",
    "encoder = OrdinalEncoder(handle_unknown='use_encoded_value', unknown_value=9999)\n",
    "cat_columns = autos.select_dtypes(include=['object']).columns\n",
    "encoder.fit(features_train[cat_columns])\n",
    "\n",
    "features_train_oe = features_train.copy()\n",
    "features_test_oe = features_test.copy()\n",
    "\n",
    "features_train_oe[cat_columns] = encoder.transform(features_train_oe[cat_columns])\n",
    "features_test_oe[cat_columns] = encoder.transform(features_test_oe[cat_columns])\n",
    "\n",
    "#Кодировка признаки через OE:\n",
    "encoder = OrdinalEncoder()\n",
    "\n",
    "features_train_oe = features_train[['vehicle_type','fuel_type','brand','model']]\n",
    "features_train_oe = pd.DataFrame(encoder.fit_transform(features_train),\n",
    "                                 columns=features_train.columns,\n",
    "                                 index=features_train.index)\n",
    "\n",
    "target_train_oe = target_train.copy()"
   ]
  },
  {
   "cell_type": "code",
   "execution_count": 39,
   "metadata": {},
   "outputs": [
    {
     "name": "stdout",
     "output_type": "stream",
     "text": [
      "(201759, 308)\n",
      "(67253, 308)\n",
      "(201759,)\n",
      "(67253,)\n",
      "\n",
      "(201759, 9)\n",
      "(67253, 9)\n",
      "(201759,)\n",
      "(67253,)\n",
      "\n",
      "(201759, 9)\n",
      "(67253, 9)\n",
      "(201759,)\n",
      "(67253,)\n"
     ]
    }
   ],
   "source": [
    "#Размеры выборок:\n",
    "for i in [features_train_ohe, features_test_ohe, target_train_ohe, target_test_ohe]:\n",
    "    print(i.shape)    \n",
    "    \n",
    "print()\n",
    "\n",
    "for i in [features_train_oe, features_test_oe, target_train_oe, target_test_oe]:\n",
    "    print(i.shape)\n",
    "\n",
    "print()\n",
    "    \n",
    "for i in [features_train, features_test, target_train, target_test]:\n",
    "    print(i.shape)"
   ]
  },
  {
   "cell_type": "markdown",
   "metadata": {},
   "source": [
    "### Модель LinearRegression"
   ]
  },
  {
   "cell_type": "markdown",
   "metadata": {},
   "source": [
    "#### На выборках с OneHotEncoder"
   ]
  },
  {
   "cell_type": "code",
   "execution_count": 40,
   "metadata": {},
   "outputs": [
    {
     "name": "stdout",
     "output_type": "stream",
     "text": [
      "CPU times: user 11.6 s, sys: 5.43 s, total: 17 s\n",
      "Wall time: 17 s\n"
     ]
    },
    {
     "data": {
      "text/plain": [
       "LinearRegression()"
      ]
     },
     "execution_count": 40,
     "metadata": {},
     "output_type": "execute_result"
    }
   ],
   "source": [
    "%%time\n",
    "\n",
    "model_lr = LinearRegression()\n",
    "model_lr.fit(features_train_ohe, target_train_ohe)"
   ]
  },
  {
   "cell_type": "code",
   "execution_count": 41,
   "metadata": {},
   "outputs": [
    {
     "name": "stdout",
     "output_type": "stream",
     "text": [
      "CPU times: user 369 ms, sys: 322 ms, total: 690 ms\n",
      "Wall time: 697 ms\n"
     ]
    }
   ],
   "source": [
    "%%time\n",
    "\n",
    "target_predict = model_lr.predict(features_train_ohe)"
   ]
  },
  {
   "cell_type": "code",
   "execution_count": 42,
   "metadata": {},
   "outputs": [
    {
     "data": {
      "text/plain": [
       "2072.53321718147"
      ]
     },
     "execution_count": 42,
     "metadata": {},
     "output_type": "execute_result"
    }
   ],
   "source": [
    "rmse_lr_ohe = mean_squared_error(target_train_ohe, target_predict) ** .5\n",
    "rmse_lr_ohe"
   ]
  },
  {
   "cell_type": "markdown",
   "metadata": {},
   "source": [
    "#### На выборках с OrdinalEncoder"
   ]
  },
  {
   "cell_type": "code",
   "execution_count": 43,
   "metadata": {},
   "outputs": [
    {
     "name": "stdout",
     "output_type": "stream",
     "text": [
      "CPU times: user 42.1 ms, sys: 20.6 ms, total: 62.7 ms\n",
      "Wall time: 51.5 ms\n"
     ]
    },
    {
     "data": {
      "text/plain": [
       "LinearRegression()"
      ]
     },
     "execution_count": 43,
     "metadata": {},
     "output_type": "execute_result"
    }
   ],
   "source": [
    "%%time\n",
    "\n",
    "model_lr = LinearRegression()\n",
    "model_lr.fit(features_train_oe, target_train_oe)"
   ]
  },
  {
   "cell_type": "code",
   "execution_count": 44,
   "metadata": {},
   "outputs": [
    {
     "name": "stdout",
     "output_type": "stream",
     "text": [
      "CPU times: user 14.8 ms, sys: 21.3 ms, total: 36.1 ms\n",
      "Wall time: 39.7 ms\n"
     ]
    }
   ],
   "source": [
    "%%time\n",
    "\n",
    "target_predict = model_lr.predict(features_train_oe)"
   ]
  },
  {
   "cell_type": "code",
   "execution_count": 45,
   "metadata": {},
   "outputs": [
    {
     "data": {
      "text/plain": [
       "2359.4990513276075"
      ]
     },
     "execution_count": 45,
     "metadata": {},
     "output_type": "execute_result"
    }
   ],
   "source": [
    "rmse_lr_oe = mean_squared_error(target_train_oe, target_predict) ** .5\n",
    "rmse_lr_oe"
   ]
  },
  {
   "cell_type": "markdown",
   "metadata": {},
   "source": [
    "#### С использованием кроссвлидации"
   ]
  },
  {
   "cell_type": "code",
   "execution_count": 46,
   "metadata": {},
   "outputs": [
    {
     "name": "stdout",
     "output_type": "stream",
     "text": [
      "CPU times: user 46.1 s, sys: 26.7 s, total: 1min 12s\n",
      "Wall time: 1min 13s\n"
     ]
    },
    {
     "data": {
      "text/plain": [
       "4316599.289912512"
      ]
     },
     "execution_count": 46,
     "metadata": {},
     "output_type": "execute_result"
    }
   ],
   "source": [
    "%%time\n",
    "\n",
    "model_lr = LinearRegression()\n",
    "\n",
    "#mse доступна только как neg_mean_squared_error, которая возвращает массив отрицательных значений\n",
    "#поэтому на -1 умножаю:\n",
    "cvs_rmse_lr = (cross_val_score(model_lr,\n",
    "                               features_train_ohe,\n",
    "                               target_train_ohe,\n",
    "                               cv=5,\n",
    "                               scoring='neg_mean_squared_error')).mean() * -1 ** .5\n",
    "cvs_rmse_lr"
   ]
  },
  {
   "cell_type": "code",
   "execution_count": 47,
   "metadata": {},
   "outputs": [
    {
     "name": "stdout",
     "output_type": "stream",
     "text": [
      "CPU times: user 413 ms, sys: 582 ms, total: 995 ms\n",
      "Wall time: 999 ms\n"
     ]
    },
    {
     "data": {
      "text/plain": [
       "5567904.076855193"
      ]
     },
     "execution_count": 47,
     "metadata": {},
     "output_type": "execute_result"
    }
   ],
   "source": [
    "%%time\n",
    "\n",
    "model_lr = LinearRegression()\n",
    "\n",
    "cvs_rmse_lr = (cross_val_score(model_lr,\n",
    "                               features_train_oe,\n",
    "                               target_train_oe,\n",
    "                               cv=5,\n",
    "                               scoring='neg_mean_squared_error')).mean() * -1 ** .5\n",
    "cvs_rmse_lr"
   ]
  },
  {
   "cell_type": "markdown",
   "metadata": {},
   "source": [
    " ### Модель CatBoostRegression"
   ]
  },
  {
   "cell_type": "markdown",
   "metadata": {},
   "source": [
    "#### На выборках c OneHotEncoder"
   ]
  },
  {
   "cell_type": "code",
   "execution_count": 48,
   "metadata": {},
   "outputs": [
    {
     "name": "stdout",
     "output_type": "stream",
     "text": [
      "{'learning_rate': 0.5, 'random_state': 12345, 'verbose': False}\n",
      "CPU times: user 5min 21s, sys: 3.59 s, total: 5min 24s\n",
      "Wall time: 5min 44s\n"
     ]
    },
    {
     "data": {
      "text/plain": [
       "1305.3142292413966"
      ]
     },
     "execution_count": 48,
     "metadata": {},
     "output_type": "execute_result"
    }
   ],
   "source": [
    "%%time\n",
    "\n",
    "model_cbr = CatBoostRegressor() \n",
    "parameters = [{'learning_rate':[.1, .5, .8], 'random_state':[12345], 'verbose':[False]}]\n",
    "\n",
    "gscv = GridSearchCV(model_cbr, parameters, scoring='neg_mean_squared_error')\n",
    "gscv.fit(features_train_ohe, target_train_ohe)\n",
    "\n",
    "print(gscv.best_params_)\n",
    "\n",
    "mts = gscv.cv_results_['mean_test_score']\n",
    "    \n",
    "gscv_rsme_cbr_ohe = (max(mts) * -1) ** .5\n",
    "gscv_rsme_cbr_ohe"
   ]
  },
  {
   "cell_type": "code",
   "execution_count": 49,
   "metadata": {},
   "outputs": [
    {
     "name": "stdout",
     "output_type": "stream",
     "text": [
      "CPU times: user 23.4 s, sys: 163 ms, total: 23.5 s\n",
      "Wall time: 24.6 s\n"
     ]
    },
    {
     "data": {
      "text/plain": [
       "<catboost.core.CatBoostRegressor at 0x7f071470ca60>"
      ]
     },
     "execution_count": 49,
     "metadata": {},
     "output_type": "execute_result"
    }
   ],
   "source": [
    "%%time\n",
    "\n",
    "model_cbr = CatBoostRegressor(learning_rate=.5, random_state=12345, verbose=False) #подставила лучшие параметры\n",
    "model_cbr.fit(features_train_ohe, target_train_ohe)"
   ]
  },
  {
   "cell_type": "code",
   "execution_count": 50,
   "metadata": {},
   "outputs": [
    {
     "name": "stdout",
     "output_type": "stream",
     "text": [
      "CPU times: user 141 ms, sys: 180 µs, total: 141 ms\n",
      "Wall time: 140 ms\n"
     ]
    }
   ],
   "source": [
    "%%time\n",
    "\n",
    "target_predict = model_cbr.predict(features_test_ohe)"
   ]
  },
  {
   "cell_type": "code",
   "execution_count": 51,
   "metadata": {},
   "outputs": [
    {
     "data": {
      "text/plain": [
       "1301.7942819066543"
      ]
     },
     "execution_count": 51,
     "metadata": {},
     "output_type": "execute_result"
    }
   ],
   "source": [
    "rmse_cbr_ohe = mean_squared_error(target_test, target_predict) ** .5\n",
    "rmse_cbr_ohe"
   ]
  },
  {
   "cell_type": "markdown",
   "metadata": {},
   "source": [
    "#### На выборках c OrdinalEncoder"
   ]
  },
  {
   "cell_type": "code",
   "execution_count": 52,
   "metadata": {},
   "outputs": [
    {
     "name": "stdout",
     "output_type": "stream",
     "text": [
      "{'learning_rate': 0.5, 'random_state': 12345, 'verbose': False}\n",
      "CPU times: user 5min 9s, sys: 2.66 s, total: 5min 12s\n",
      "Wall time: 5min 28s\n"
     ]
    },
    {
     "data": {
      "text/plain": [
       "1316.6633282151856"
      ]
     },
     "execution_count": 52,
     "metadata": {},
     "output_type": "execute_result"
    }
   ],
   "source": [
    "%%time\n",
    "\n",
    "model_cbr = CatBoostRegressor() \n",
    "parameters = [{'learning_rate':[.1, .5, .8], 'random_state':[12345], 'verbose':[False]}]\n",
    "\n",
    "gscv = GridSearchCV(model_cbr, parameters, scoring='neg_mean_squared_error')\n",
    "gscv.fit(features_train_oe, target_train_oe)\n",
    "\n",
    "print(gscv.best_params_)\n",
    "\n",
    "mts = gscv.cv_results_['mean_test_score']\n",
    "    \n",
    "gscv_rsme_cbr_oe = (max(mts) * -1) ** .5\n",
    "gscv_rsme_cbr_oe"
   ]
  },
  {
   "cell_type": "code",
   "execution_count": 53,
   "metadata": {},
   "outputs": [
    {
     "name": "stdout",
     "output_type": "stream",
     "text": [
      "CPU times: user 23.7 s, sys: 143 ms, total: 23.9 s\n",
      "Wall time: 24.9 s\n"
     ]
    },
    {
     "data": {
      "text/plain": [
       "<catboost.core.CatBoostRegressor at 0x7f07144f0850>"
      ]
     },
     "execution_count": 53,
     "metadata": {},
     "output_type": "execute_result"
    }
   ],
   "source": [
    "%%time\n",
    "\n",
    "model_cbr = CatBoostRegressor(learning_rate=.5, random_state=12345, verbose=False) \n",
    "model_cbr.fit(features_train_oe, target_train_oe)"
   ]
  },
  {
   "cell_type": "code",
   "execution_count": 54,
   "metadata": {},
   "outputs": [
    {
     "name": "stdout",
     "output_type": "stream",
     "text": [
      "CPU times: user 65.3 ms, sys: 80 µs, total: 65.4 ms\n",
      "Wall time: 63.5 ms\n"
     ]
    }
   ],
   "source": [
    "%%time\n",
    "\n",
    "target_predict = model_cbr.predict(features_test_oe)"
   ]
  },
  {
   "cell_type": "code",
   "execution_count": 55,
   "metadata": {},
   "outputs": [
    {
     "data": {
      "text/plain": [
       "1425.6630298611178"
      ]
     },
     "execution_count": 55,
     "metadata": {},
     "output_type": "execute_result"
    }
   ],
   "source": [
    "rmse_cbr_oe = mean_squared_error(target_test, target_predict) ** .5\n",
    "rmse_cbr_oe"
   ]
  },
  {
   "cell_type": "markdown",
   "metadata": {},
   "source": [
    "#### На выборках без кодировки"
   ]
  },
  {
   "cell_type": "code",
   "execution_count": 56,
   "metadata": {},
   "outputs": [
    {
     "name": "stdout",
     "output_type": "stream",
     "text": [
      "CPU times: user 26.4 s, sys: 299 ms, total: 26.7 s\n",
      "Wall time: 27.3 s\n"
     ]
    },
    {
     "data": {
      "text/plain": [
       "<catboost.core.CatBoostRegressor at 0x7f071359e640>"
      ]
     },
     "execution_count": 56,
     "metadata": {},
     "output_type": "execute_result"
    }
   ],
   "source": [
    "%%time\n",
    "\n",
    "model_cbr = CatBoostRegressor(learning_rate=.5, iterations=200, random_state=12345, verbose=False, \n",
    "                              cat_features=['vehicle_type','fuel_type','brand','model']) \n",
    "\n",
    "model_cbr.fit(features_train, target_train)"
   ]
  },
  {
   "cell_type": "code",
   "execution_count": 57,
   "metadata": {},
   "outputs": [
    {
     "name": "stdout",
     "output_type": "stream",
     "text": [
      "CPU times: user 132 ms, sys: 0 ns, total: 132 ms\n",
      "Wall time: 130 ms\n"
     ]
    }
   ],
   "source": [
    "%%time\n",
    "\n",
    "target_predict = model_cbr.predict(features_test)"
   ]
  },
  {
   "cell_type": "code",
   "execution_count": 58,
   "metadata": {},
   "outputs": [
    {
     "data": {
      "text/plain": [
       "1348.3124503562653"
      ]
     },
     "execution_count": 58,
     "metadata": {},
     "output_type": "execute_result"
    }
   ],
   "source": [
    "rmse_cbr = mean_squared_error(target_test, target_predict) ** .5\n",
    "rmse_cbr"
   ]
  },
  {
   "cell_type": "markdown",
   "metadata": {},
   "source": [
    "### Модель LightGMBRegressor"
   ]
  },
  {
   "cell_type": "markdown",
   "metadata": {},
   "source": [
    "#### На выборках c OneHotEncoder"
   ]
  },
  {
   "cell_type": "code",
   "execution_count": 59,
   "metadata": {},
   "outputs": [
    {
     "name": "stdout",
     "output_type": "stream",
     "text": [
      "{'learning_rate': 0.3, 'num_leaves': 200, 'random_state': 12345}\n",
      "\n",
      "CPU times: user 8min 57s, sys: 27.2 s, total: 9min 24s\n",
      "Wall time: 9min 28s\n"
     ]
    },
    {
     "data": {
      "text/plain": [
       "1304.6188702139004"
      ]
     },
     "execution_count": 59,
     "metadata": {},
     "output_type": "execute_result"
    }
   ],
   "source": [
    "%%time\n",
    "\n",
    "model_lgbmr = LGBMRegressor() \n",
    "parameters = [{'num_leaves':[25, 50, 100, 200], 'learning_rate':[.1, .3, .5], 'random_state':[12345]}]\n",
    "\n",
    "clf = GridSearchCV(model_lgbmr, parameters, scoring='neg_mean_squared_error')\n",
    "clf.fit(features_train_ohe, target_train_ohe)\n",
    "\n",
    "print(clf.best_params_)\n",
    "print()\n",
    "\n",
    "mts = clf.cv_results_['mean_test_score']\n",
    "\n",
    "rsme_lgbmr = (max(mts) * -1) ** .5\n",
    "rsme_lgbmr"
   ]
  },
  {
   "cell_type": "code",
   "execution_count": 60,
   "metadata": {},
   "outputs": [
    {
     "name": "stdout",
     "output_type": "stream",
     "text": [
      "CPU times: user 12.9 s, sys: 483 ms, total: 13.4 s\n",
      "Wall time: 13.5 s\n"
     ]
    },
    {
     "data": {
      "text/plain": [
       "LGBMRegressor(learning_rate=0.3, num_leaves=200, random_state=12345)"
      ]
     },
     "execution_count": 60,
     "metadata": {},
     "output_type": "execute_result"
    }
   ],
   "source": [
    "%%time\n",
    "\n",
    "model_lgbmr = LGBMRegressor(learning_rate=.3, num_leaves=200, random_state=12345)\n",
    "model_lgbmr.fit(features_train_ohe, target_train_ohe)"
   ]
  },
  {
   "cell_type": "code",
   "execution_count": 61,
   "metadata": {},
   "outputs": [
    {
     "name": "stdout",
     "output_type": "stream",
     "text": [
      "CPU times: user 818 ms, sys: 105 ms, total: 923 ms\n",
      "Wall time: 905 ms\n"
     ]
    }
   ],
   "source": [
    "%%time\n",
    "\n",
    "target_predict = model_lgbmr.predict(features_test_ohe)"
   ]
  },
  {
   "cell_type": "code",
   "execution_count": 62,
   "metadata": {},
   "outputs": [
    {
     "data": {
      "text/plain": [
       "1291.8139091230903"
      ]
     },
     "execution_count": 62,
     "metadata": {},
     "output_type": "execute_result"
    }
   ],
   "source": [
    "rsme_lgbmr_ohe = mean_squared_error(target_test, target_predict) ** .5\n",
    "rsme_lgbmr_ohe"
   ]
  },
  {
   "cell_type": "markdown",
   "metadata": {},
   "source": [
    "#### На выборках c OrdinalEncoder"
   ]
  },
  {
   "cell_type": "code",
   "execution_count": 63,
   "metadata": {},
   "outputs": [
    {
     "name": "stdout",
     "output_type": "stream",
     "text": [
      "{'learning_rate': 0.3, 'num_leaves': 200, 'random_state': 12345}\n",
      "\n",
      "CPU times: user 6min 11s, sys: 7.6 s, total: 6min 19s\n",
      "Wall time: 6min 22s\n"
     ]
    },
    {
     "data": {
      "text/plain": [
       "1310.5821401944902"
      ]
     },
     "execution_count": 63,
     "metadata": {},
     "output_type": "execute_result"
    }
   ],
   "source": [
    "%%time\n",
    "\n",
    "model_lgbmr = LGBMRegressor() \n",
    "parameters = [{'num_leaves':[25, 50, 100, 200], 'learning_rate':[.1, .3, .5], 'random_state':[12345]}]\n",
    "\n",
    "\n",
    "clf = GridSearchCV(model_lgbmr, parameters, scoring='neg_mean_squared_error')\n",
    "clf.fit(features_train_oe, target_train_oe)\n",
    "\n",
    "print(clf.best_params_)\n",
    "print()\n",
    "\n",
    "mts = clf.cv_results_['mean_test_score']\n",
    "\n",
    "rsme_lgbmr = (max(mts) * -1) ** .5\n",
    "rsme_lgbmr"
   ]
  },
  {
   "cell_type": "code",
   "execution_count": 64,
   "metadata": {},
   "outputs": [
    {
     "name": "stdout",
     "output_type": "stream",
     "text": [
      "CPU times: user 6.17 s, sys: 141 ms, total: 6.31 s\n",
      "Wall time: 6.31 s\n"
     ]
    },
    {
     "data": {
      "text/plain": [
       "LGBMRegressor(learning_rate=0.3, num_leaves=100, random_state=12345)"
      ]
     },
     "execution_count": 64,
     "metadata": {},
     "output_type": "execute_result"
    }
   ],
   "source": [
    "%%time\n",
    "\n",
    "model = LGBMRegressor(learning_rate=.3, num_leaves=100, random_state=12345)\n",
    "model.fit(features_train_oe, target_train_oe)"
   ]
  },
  {
   "cell_type": "code",
   "execution_count": 65,
   "metadata": {},
   "outputs": [
    {
     "name": "stdout",
     "output_type": "stream",
     "text": [
      "CPU times: user 426 ms, sys: 12 ms, total: 438 ms\n",
      "Wall time: 408 ms\n"
     ]
    }
   ],
   "source": [
    "%%time\n",
    "\n",
    "target_predict = model.predict(features_test_oe)"
   ]
  },
  {
   "cell_type": "code",
   "execution_count": 66,
   "metadata": {},
   "outputs": [
    {
     "data": {
      "text/plain": [
       "1395.3927445191594"
      ]
     },
     "execution_count": 66,
     "metadata": {},
     "output_type": "execute_result"
    }
   ],
   "source": [
    "rsme_lgbmr_oe = mean_squared_error(target_test, target_predict) ** .5\n",
    "rsme_lgbmr_oe"
   ]
  },
  {
   "cell_type": "markdown",
   "metadata": {},
   "source": [
    "**Вывод:**\n",
    "\n",
    "1. Обучены 3 модели - линейная регрессия, CatBoostRegression и LGBMRegressor - со сменой гиперпараметров и на разных выборках - изначальные, с обычной кодировкой и OHE;\n",
    "2. Часть моделей дали RMSE > 2500, поэтому финальный вывод будет делаться на моделях, которые дали RMSE < 2500."
   ]
  },
  {
   "cell_type": "markdown",
   "metadata": {},
   "source": [
    "## Анализ моделей"
   ]
  },
  {
   "cell_type": "code",
   "execution_count": 86,
   "metadata": {},
   "outputs": [
    {
     "data": {
      "text/html": [
       "<div>\n",
       "<style scoped>\n",
       "    .dataframe tbody tr th:only-of-type {\n",
       "        vertical-align: middle;\n",
       "    }\n",
       "\n",
       "    .dataframe tbody tr th {\n",
       "        vertical-align: top;\n",
       "    }\n",
       "\n",
       "    .dataframe thead th {\n",
       "        text-align: right;\n",
       "    }\n",
       "</style>\n",
       "<table border=\"1\" class=\"dataframe\">\n",
       "  <thead>\n",
       "    <tr style=\"text-align: right;\">\n",
       "      <th></th>\n",
       "      <th>RMSE</th>\n",
       "      <th>Время обучения модели</th>\n",
       "      <th>Время предсказания модели</th>\n",
       "      <th>Рейтинг</th>\n",
       "    </tr>\n",
       "  </thead>\n",
       "  <tbody>\n",
       "    <tr>\n",
       "      <th>CatBoostRegressor с OHE</th>\n",
       "      <td>1301.794282</td>\n",
       "      <td>23.50</td>\n",
       "      <td>0.141</td>\n",
       "      <td>450.411586</td>\n",
       "    </tr>\n",
       "    <tr>\n",
       "      <th>LGBMRegressor с OHE</th>\n",
       "      <td>1311.905287</td>\n",
       "      <td>13.40</td>\n",
       "      <td>0.923</td>\n",
       "      <td>450.774388</td>\n",
       "    </tr>\n",
       "    <tr>\n",
       "      <th>CatBoostRegressor без кодировки</th>\n",
       "      <td>1348.312450</td>\n",
       "      <td>26.70</td>\n",
       "      <td>0.132</td>\n",
       "      <td>467.280793</td>\n",
       "    </tr>\n",
       "    <tr>\n",
       "      <th>LGBMRegressor с OE</th>\n",
       "      <td>1395.392745</td>\n",
       "      <td>6.31</td>\n",
       "      <td>0.438</td>\n",
       "      <td>476.660373</td>\n",
       "    </tr>\n",
       "    <tr>\n",
       "      <th>CatBoostRegressor с OE</th>\n",
       "      <td>1425.663030</td>\n",
       "      <td>23.90</td>\n",
       "      <td>0.065</td>\n",
       "      <td>492.633880</td>\n",
       "    </tr>\n",
       "    <tr>\n",
       "      <th>Линейная регрессия с OHE</th>\n",
       "      <td>2072.533217</td>\n",
       "      <td>17.00</td>\n",
       "      <td>0.690</td>\n",
       "      <td>710.498994</td>\n",
       "    </tr>\n",
       "    <tr>\n",
       "      <th>Линейная регрессия с OE</th>\n",
       "      <td>2359.499051</td>\n",
       "      <td>62.70</td>\n",
       "      <td>0.036</td>\n",
       "      <td>822.932557</td>\n",
       "    </tr>\n",
       "  </tbody>\n",
       "</table>\n",
       "</div>"
      ],
      "text/plain": [
       "                                        RMSE  Время обучения модели  \\\n",
       "CatBoostRegressor с OHE          1301.794282                  23.50   \n",
       "LGBMRegressor с OHE              1311.905287                  13.40   \n",
       "CatBoostRegressor без кодировки  1348.312450                  26.70   \n",
       "LGBMRegressor с OE               1395.392745                   6.31   \n",
       "CatBoostRegressor с OE           1425.663030                  23.90   \n",
       "Линейная регрессия с OHE         2072.533217                  17.00   \n",
       "Линейная регрессия с OE          2359.499051                  62.70   \n",
       "\n",
       "                                 Время предсказания модели     Рейтинг  \n",
       "CatBoostRegressor с OHE                              0.141  450.411586  \n",
       "LGBMRegressor с OHE                                  0.923  450.774388  \n",
       "CatBoostRegressor без кодировки                      0.132  467.280793  \n",
       "LGBMRegressor с OE                                   0.438  476.660373  \n",
       "CatBoostRegressor с OE                               0.065  492.633880  \n",
       "Линейная регрессия с OHE                             0.690  710.498994  \n",
       "Линейная регрессия с OE                              0.036  822.932557  "
      ]
     },
     "execution_count": 86,
     "metadata": {},
     "output_type": "execute_result"
    }
   ],
   "source": [
    "#создаю сводную таблицу по показателям RMSE < 2500, время обучения модели и время предсказания модели:\n",
    "index = ['Линейная регрессия с OHE',\n",
    "         'Линейная регрессия с OE',\n",
    "         'CatBoostRegressor с OHE',\n",
    "         'CatBoostRegressor с OE',\n",
    "         'CatBoostRegressor без кодировки',\n",
    "         'LGBMRegressor с OHE',\n",
    "         'LGBMRegressor с OE'\n",
    "        ]\n",
    "\n",
    "data = {'RMSE':[rmse_lr_ohe,\n",
    "                rmse_lr_oe,\n",
    "                rmse_cbr_ohe,\n",
    "                rmse_cbr_oe,\n",
    "                rmse_cbr,\n",
    "                rsme_lgbmr_ohe,\n",
    "                rsme_lgbmr_oe],\n",
    "        \n",
    "        'Время обучения модели':[17,\n",
    "                                 62.7,\n",
    "                                 23.5,\n",
    "                                 23.9,\n",
    "                                 26.7,\n",
    "                                 13.4,\n",
    "                                 6.31],\n",
    "        \n",
    "        'Время предсказания модели':[0.690,\n",
    "                                     0.036,\n",
    "                                     0.141,\n",
    "                                     0.065,\n",
    "                                     0.132,\n",
    "                                     0.923,\n",
    "                                     0.438]\n",
    "       }\n",
    "\n",
    "kpi_data = pd.DataFrame(data=data, index=index)\n",
    "\n",
    "#ввожу столбец Рейтинг с весами:\n",
    "kpi_data['Рейтинг'] = (kpi_data['RMSE'] * .34 \\\n",
    "                       + kpi_data['Время обучения модели'] * .33 \\\n",
    "                       + kpi_data['Время предсказания модели'] * .33)\n",
    "\n",
    "kpi_data.sort_values(by = 'Рейтинг', ascending=True)"
   ]
  },
  {
   "cell_type": "markdown",
   "metadata": {},
   "source": [
    "*Промежуточный результат:*\n",
    "\n",
    "Лучшей моделью по RMSE, времени обучения модели, времени предсказания модели, если считать эти параметры одинаково важными для принятия решения, является LGBMRegressor с выборками c OHE. Аутсайдер рейтинга - модель LinearRegression."
   ]
  },
  {
   "cell_type": "markdown",
   "metadata": {},
   "source": [
    "## Тестирование лучшей модели"
   ]
  },
  {
   "cell_type": "code",
   "execution_count": 87,
   "metadata": {},
   "outputs": [
    {
     "name": "stdout",
     "output_type": "stream",
     "text": [
      "CPU times: user 12.1 s, sys: 443 ms, total: 12.5 s\n",
      "Wall time: 12.5 s\n"
     ]
    },
    {
     "data": {
      "text/plain": [
       "LGBMRegressor(learning_rate=0.3, num_leaves=200, random_state=12345)"
      ]
     },
     "execution_count": 87,
     "metadata": {},
     "output_type": "execute_result"
    }
   ],
   "source": [
    "%%time\n",
    "\n",
    "model_lgbmr = LGBMRegressor(learning_rate=.3, num_leaves=200, random_state=12345)\n",
    "model_lgbmr.fit(features_train_ohe, target_train_ohe)"
   ]
  },
  {
   "cell_type": "code",
   "execution_count": 88,
   "metadata": {},
   "outputs": [
    {
     "name": "stdout",
     "output_type": "stream",
     "text": [
      "CPU times: user 797 ms, sys: 83.2 ms, total: 881 ms\n",
      "Wall time: 874 ms\n"
     ]
    }
   ],
   "source": [
    "%%time\n",
    "\n",
    "target_predict_ohe = model_lgbmr.predict(features_valid_ohe)"
   ]
  },
  {
   "cell_type": "code",
   "execution_count": 89,
   "metadata": {},
   "outputs": [
    {
     "data": {
      "text/plain": [
       "1311.9052873934913"
      ]
     },
     "execution_count": 89,
     "metadata": {},
     "output_type": "execute_result"
    }
   ],
   "source": [
    "rsme_lgbmr_ohe = mean_squared_error(target_valid_ohe, target_predict_ohe) ** .5\n",
    "rsme_lgbmr_ohe"
   ]
  },
  {
   "cell_type": "code",
   "execution_count": 90,
   "metadata": {},
   "outputs": [
    {
     "name": "stdout",
     "output_type": "stream",
     "text": [
      "CPU times: user 13.3 s, sys: 462 ms, total: 13.7 s\n",
      "Wall time: 13.8 s\n"
     ]
    },
    {
     "data": {
      "text/plain": [
       "LGBMRegressor(learning_rate=0.3, num_leaves=200, random_state=12345)"
      ]
     },
     "execution_count": 90,
     "metadata": {},
     "output_type": "execute_result"
    }
   ],
   "source": [
    "%%time\n",
    "\n",
    "#проверяю качество модели на тестовой выборке:\n",
    "model_lgbmr = LGBMRegressor(learning_rate=.3, num_leaves=200, random_state=12345)\n",
    "model_lgbmr.fit(features_train_ohe, target_train_ohe)"
   ]
  },
  {
   "cell_type": "code",
   "execution_count": 91,
   "metadata": {},
   "outputs": [
    {
     "name": "stdout",
     "output_type": "stream",
     "text": [
      "CPU times: user 674 ms, sys: 89 ms, total: 763 ms\n",
      "Wall time: 797 ms\n"
     ]
    }
   ],
   "source": [
    "%%time\n",
    "\n",
    "target_predict_ohe = model_lgbmr.predict(features_test_ohe)"
   ]
  },
  {
   "cell_type": "code",
   "execution_count": 92,
   "metadata": {},
   "outputs": [
    {
     "data": {
      "text/plain": [
       "1302.4869752198506"
      ]
     },
     "execution_count": 92,
     "metadata": {},
     "output_type": "execute_result"
    }
   ],
   "source": [
    "final_rsme_lgbmr_ohe = mean_squared_error(target_test_ohe, target_predict_ohe) ** .5\n",
    "final_rsme_lgbmr_ohe"
   ]
  },
  {
   "cell_type": "code",
   "execution_count": 93,
   "metadata": {},
   "outputs": [
    {
     "data": {
      "text/html": [
       "<div>\n",
       "<style scoped>\n",
       "    .dataframe tbody tr th:only-of-type {\n",
       "        vertical-align: middle;\n",
       "    }\n",
       "\n",
       "    .dataframe tbody tr th {\n",
       "        vertical-align: top;\n",
       "    }\n",
       "\n",
       "    .dataframe thead th {\n",
       "        text-align: right;\n",
       "    }\n",
       "</style>\n",
       "<table border=\"1\" class=\"dataframe\">\n",
       "  <thead>\n",
       "    <tr style=\"text-align: right;\">\n",
       "      <th></th>\n",
       "      <th>RMSE</th>\n",
       "      <th>Время обучения модели</th>\n",
       "      <th>Время предсказания модели</th>\n",
       "      <th>Рейтинг</th>\n",
       "    </tr>\n",
       "  </thead>\n",
       "  <tbody>\n",
       "    <tr>\n",
       "      <th>Финальные данные на лучшей модели</th>\n",
       "      <td>1302.486975</td>\n",
       "      <td>11.10</td>\n",
       "      <td>0.751</td>\n",
       "      <td>446.696672</td>\n",
       "    </tr>\n",
       "    <tr>\n",
       "      <th>CatBoostRegressor с OHE</th>\n",
       "      <td>1301.794282</td>\n",
       "      <td>23.50</td>\n",
       "      <td>0.141</td>\n",
       "      <td>450.411586</td>\n",
       "    </tr>\n",
       "    <tr>\n",
       "      <th>LGBMRegressor с OHE</th>\n",
       "      <td>1311.905287</td>\n",
       "      <td>13.40</td>\n",
       "      <td>0.923</td>\n",
       "      <td>450.774388</td>\n",
       "    </tr>\n",
       "    <tr>\n",
       "      <th>CatBoostRegressor без кодировки</th>\n",
       "      <td>1348.312450</td>\n",
       "      <td>26.70</td>\n",
       "      <td>0.132</td>\n",
       "      <td>467.280793</td>\n",
       "    </tr>\n",
       "    <tr>\n",
       "      <th>LGBMRegressor с OE</th>\n",
       "      <td>1395.392745</td>\n",
       "      <td>6.31</td>\n",
       "      <td>0.438</td>\n",
       "      <td>476.660373</td>\n",
       "    </tr>\n",
       "    <tr>\n",
       "      <th>CatBoostRegressor с OE</th>\n",
       "      <td>1425.663030</td>\n",
       "      <td>23.90</td>\n",
       "      <td>0.065</td>\n",
       "      <td>492.633880</td>\n",
       "    </tr>\n",
       "    <tr>\n",
       "      <th>Линейная регрессия с OHE</th>\n",
       "      <td>2072.533217</td>\n",
       "      <td>17.00</td>\n",
       "      <td>0.690</td>\n",
       "      <td>710.498994</td>\n",
       "    </tr>\n",
       "    <tr>\n",
       "      <th>Линейная регрессия с OE</th>\n",
       "      <td>2359.499051</td>\n",
       "      <td>62.70</td>\n",
       "      <td>0.036</td>\n",
       "      <td>822.932557</td>\n",
       "    </tr>\n",
       "  </tbody>\n",
       "</table>\n",
       "</div>"
      ],
      "text/plain": [
       "                                          RMSE  Время обучения модели  \\\n",
       "Финальные данные на лучшей модели  1302.486975                  11.10   \n",
       "CatBoostRegressor с OHE            1301.794282                  23.50   \n",
       "LGBMRegressor с OHE                1311.905287                  13.40   \n",
       "CatBoostRegressor без кодировки    1348.312450                  26.70   \n",
       "LGBMRegressor с OE                 1395.392745                   6.31   \n",
       "CatBoostRegressor с OE             1425.663030                  23.90   \n",
       "Линейная регрессия с OHE           2072.533217                  17.00   \n",
       "Линейная регрессия с OE            2359.499051                  62.70   \n",
       "\n",
       "                                   Время предсказания модели     Рейтинг  \n",
       "Финальные данные на лучшей модели                      0.751  446.696672  \n",
       "CatBoostRegressor с OHE                                0.141  450.411586  \n",
       "LGBMRegressor с OHE                                    0.923  450.774388  \n",
       "CatBoostRegressor без кодировки                        0.132  467.280793  \n",
       "LGBMRegressor с OE                                     0.438  476.660373  \n",
       "CatBoostRegressor с OE                                 0.065  492.633880  \n",
       "Линейная регрессия с OHE                               0.690  710.498994  \n",
       "Линейная регрессия с OE                                0.036  822.932557  "
      ]
     },
     "execution_count": 93,
     "metadata": {},
     "output_type": "execute_result"
    }
   ],
   "source": [
    "#Добавляем в сравнительную таблицу финальные данные:\n",
    "kpi_data.loc['Финальные данные на лучшей модели'] = [final_rsme_lgbmr_ohe, 11.1, 0.751, final_rsme_lgbmr_ohe * .34 + 10.1 * .33 + 1.57 * .33]\n",
    "kpi_data.sort_values(by = 'Рейтинг', ascending=True)"
   ]
  },
  {
   "cell_type": "markdown",
   "metadata": {},
   "source": [
    "*Промежуточный результат:*\n",
    "\n",
    "Финальная проверка на лучшей модели - LGBMRegressor с выборками c OHE - дала RMSE 1291, общее место в рейтинге - 1."
   ]
  },
  {
   "cell_type": "markdown",
   "metadata": {},
   "source": [
    "## Вывод"
   ]
  },
  {
   "cell_type": "markdown",
   "metadata": {},
   "source": [
    "**В проекте:**\n",
    "\n",
    "    - Загрузили данные и провели их предобработку - очистку, заполнение, удаление лишних данных\n",
    "    - Сравнили 3 модели с разными гиперпараметрами и выборками\n",
    "    - Выброли лучшую модель по 3 показателям - RMSE, время обучения и время предскзания - и проверили ее на тестовой выборке\n",
    "\n",
    "\n",
    "Итог - наилучшей моделью стала LGBMRegressor с OHE, которая на финальном тестировании показала RMSE 1302, несмотря на требуемое большее время на обучение и предсказание. То есть если есть время, то лучше пользоваться данной моделью."
   ]
  }
 ],
 "metadata": {
  "ExecuteTimeLog": [
   {
    "duration": 1701,
    "start_time": "2023-06-05T14:03:24.835Z"
   },
   {
    "duration": 1188,
    "start_time": "2023-06-05T14:03:26.887Z"
   },
   {
    "duration": 946,
    "start_time": "2023-06-05T14:03:29.807Z"
   },
   {
    "duration": 7,
    "start_time": "2023-06-05T14:03:34.502Z"
   },
   {
    "duration": 542,
    "start_time": "2023-06-05T14:03:36.235Z"
   },
   {
    "duration": 49,
    "start_time": "2023-06-05T14:03:38.855Z"
   },
   {
    "duration": 10,
    "start_time": "2023-06-05T14:03:40.340Z"
   },
   {
    "duration": 35,
    "start_time": "2023-06-05T14:03:43.103Z"
   },
   {
    "duration": 579,
    "start_time": "2023-06-05T14:03:44.800Z"
   },
   {
    "duration": 22,
    "start_time": "2023-06-05T14:03:48.151Z"
   },
   {
    "duration": 30,
    "start_time": "2023-06-05T14:03:50.275Z"
   },
   {
    "duration": 32,
    "start_time": "2023-06-05T14:03:52.252Z"
   },
   {
    "duration": 8,
    "start_time": "2023-06-05T14:03:54.344Z"
   },
   {
    "duration": 29,
    "start_time": "2023-06-05T14:03:57.091Z"
   },
   {
    "duration": 1845,
    "start_time": "2023-06-05T14:03:59.622Z"
   },
   {
    "duration": 810,
    "start_time": "2023-06-05T14:04:01.883Z"
   },
   {
    "duration": 27,
    "start_time": "2023-06-05T14:04:05.174Z"
   },
   {
    "duration": 8,
    "start_time": "2023-06-05T14:04:07.512Z"
   },
   {
    "duration": 508,
    "start_time": "2023-06-05T14:04:09.592Z"
   },
   {
    "duration": 25,
    "start_time": "2023-06-05T14:04:14.153Z"
   },
   {
    "duration": 25,
    "start_time": "2023-06-05T14:04:16.635Z"
   },
   {
    "duration": 8,
    "start_time": "2023-06-05T14:04:18.946Z"
   },
   {
    "duration": 26,
    "start_time": "2023-06-05T14:04:21.283Z"
   },
   {
    "duration": 13,
    "start_time": "2023-06-05T14:04:25.648Z"
   },
   {
    "duration": 37,
    "start_time": "2023-06-05T14:04:26.657Z"
   },
   {
    "duration": 21,
    "start_time": "2023-06-05T14:04:28.632Z"
   },
   {
    "duration": 9,
    "start_time": "2023-06-05T14:04:31.003Z"
   },
   {
    "duration": 106,
    "start_time": "2023-06-05T14:04:33.802Z"
   },
   {
    "duration": 10,
    "start_time": "2023-06-05T14:04:56.847Z"
   },
   {
    "duration": 39,
    "start_time": "2023-06-05T14:07:21.756Z"
   },
   {
    "duration": 345,
    "start_time": "2023-06-05T14:07:28.139Z"
   },
   {
    "duration": 39,
    "start_time": "2023-06-05T14:09:48.547Z"
   },
   {
    "duration": 36,
    "start_time": "2023-06-05T14:09:58.800Z"
   },
   {
    "duration": 38,
    "start_time": "2023-06-05T14:10:04.415Z"
   },
   {
    "duration": 55,
    "start_time": "2023-06-05T14:10:06.847Z"
   },
   {
    "duration": 35,
    "start_time": "2023-06-05T14:10:09.471Z"
   },
   {
    "duration": 13,
    "start_time": "2023-06-05T14:10:17.870Z"
   },
   {
    "duration": 61,
    "start_time": "2023-06-05T14:10:19.379Z"
   },
   {
    "duration": 1330,
    "start_time": "2023-06-05T14:10:21.401Z"
   },
   {
    "duration": 36,
    "start_time": "2023-06-05T14:10:22.949Z"
   },
   {
    "duration": 14,
    "start_time": "2023-06-05T14:15:30.500Z"
   },
   {
    "duration": 43,
    "start_time": "2023-06-05T14:15:32.437Z"
   },
   {
    "duration": 15,
    "start_time": "2023-06-05T14:15:39.817Z"
   },
   {
    "duration": 28,
    "start_time": "2023-06-05T14:15:45.607Z"
   },
   {
    "duration": 33,
    "start_time": "2023-06-05T14:15:52.987Z"
   },
   {
    "duration": 47,
    "start_time": "2023-06-05T14:16:17.599Z"
   },
   {
    "duration": 40,
    "start_time": "2023-06-05T14:16:20.768Z"
   },
   {
    "duration": 38,
    "start_time": "2023-06-05T14:16:23.153Z"
   },
   {
    "duration": 80,
    "start_time": "2023-06-05T14:16:24.860Z"
   },
   {
    "duration": 51,
    "start_time": "2023-06-05T14:16:27.220Z"
   },
   {
    "duration": 19,
    "start_time": "2023-06-05T14:16:30.166Z"
   },
   {
    "duration": 65,
    "start_time": "2023-06-05T14:16:31.340Z"
   },
   {
    "duration": 1064,
    "start_time": "2023-06-05T14:16:32.556Z"
   },
   {
    "duration": 399,
    "start_time": "2023-06-05T14:16:34.480Z"
   },
   {
    "duration": 389,
    "start_time": "2023-06-05T14:16:36.361Z"
   },
   {
    "duration": 7,
    "start_time": "2023-06-05T14:16:37.861Z"
   },
   {
    "duration": 39681,
    "start_time": "2023-06-05T14:16:40.782Z"
   },
   {
    "duration": 890,
    "start_time": "2023-06-05T14:17:20.466Z"
   },
   {
    "duration": 10,
    "start_time": "2023-06-05T14:17:21.358Z"
   },
   {
    "duration": 114,
    "start_time": "2023-06-05T14:17:21.447Z"
   },
   {
    "duration": 82,
    "start_time": "2023-06-05T14:17:21.563Z"
   },
   {
    "duration": 131,
    "start_time": "2023-06-05T14:17:21.650Z"
   },
   {
    "duration": 120969,
    "start_time": "2023-06-05T14:17:21.782Z"
   },
   {
    "duration": 1197,
    "start_time": "2023-06-05T14:19:22.846Z"
   },
   {
    "duration": 408111,
    "start_time": "2023-06-05T14:19:24.046Z"
   },
   {
    "duration": 29528,
    "start_time": "2023-06-05T14:26:12.160Z"
   },
   {
    "duration": 153,
    "start_time": "2023-06-05T14:26:41.690Z"
   },
   {
    "duration": 5,
    "start_time": "2023-06-05T14:26:41.845Z"
   },
   {
    "duration": 390752,
    "start_time": "2023-06-05T14:26:41.852Z"
   },
   {
    "duration": 28946,
    "start_time": "2023-06-05T14:33:12.606Z"
   },
   {
    "duration": 70,
    "start_time": "2023-06-05T14:33:41.553Z"
   },
   {
    "duration": 4,
    "start_time": "2023-06-05T14:33:41.625Z"
   },
   {
    "duration": 31041,
    "start_time": "2023-06-05T14:33:41.642Z"
   },
   {
    "duration": 143,
    "start_time": "2023-06-05T14:34:12.685Z"
   },
   {
    "duration": 12,
    "start_time": "2023-06-05T14:34:12.830Z"
   },
   {
    "duration": 1010804,
    "start_time": "2023-06-05T14:34:12.844Z"
   },
   {
    "duration": 15510,
    "start_time": "2023-06-05T14:51:03.650Z"
   },
   {
    "duration": 1007,
    "start_time": "2023-06-05T14:51:19.161Z"
   },
   {
    "duration": 5,
    "start_time": "2023-06-05T14:51:20.242Z"
   },
   {
    "duration": 470012,
    "start_time": "2023-06-05T14:51:20.249Z"
   },
   {
    "duration": 8191,
    "start_time": "2023-06-05T14:59:10.262Z"
   },
   {
    "duration": 498,
    "start_time": "2023-06-05T14:59:18.455Z"
   },
   {
    "duration": 88,
    "start_time": "2023-06-05T14:59:18.955Z"
   },
   {
    "duration": 17,
    "start_time": "2023-06-05T14:59:19.048Z"
   },
   {
    "duration": 396,
    "start_time": "2023-06-05T14:59:19.067Z"
   },
   {
    "duration": 5,
    "start_time": "2023-06-05T14:59:19.465Z"
   },
   {
    "duration": 13776,
    "start_time": "2023-06-05T14:59:19.472Z"
   },
   {
    "duration": 893,
    "start_time": "2023-06-05T14:59:33.249Z"
   },
   {
    "duration": 13,
    "start_time": "2023-06-05T14:59:34.151Z"
   },
   {
    "duration": 13479,
    "start_time": "2023-06-05T14:59:34.166Z"
   },
   {
    "duration": 821,
    "start_time": "2023-06-05T14:59:47.647Z"
   },
   {
    "duration": 77,
    "start_time": "2023-06-05T14:59:48.470Z"
   },
   {
    "duration": 17,
    "start_time": "2023-06-05T14:59:48.549Z"
   },
   {
    "duration": 1506,
    "start_time": "2023-06-07T14:05:56.273Z"
   },
   {
    "duration": 985,
    "start_time": "2023-06-07T14:05:57.781Z"
   },
   {
    "duration": 771,
    "start_time": "2023-06-07T14:05:58.768Z"
   },
   {
    "duration": 7,
    "start_time": "2023-06-07T14:05:59.541Z"
   },
   {
    "duration": 459,
    "start_time": "2023-06-07T14:05:59.550Z"
   },
   {
    "duration": 41,
    "start_time": "2023-06-07T14:06:00.011Z"
   },
   {
    "duration": 67,
    "start_time": "2023-06-07T14:06:00.053Z"
   },
   {
    "duration": 74,
    "start_time": "2023-06-07T14:06:00.122Z"
   },
   {
    "duration": 508,
    "start_time": "2023-06-07T14:06:00.197Z"
   },
   {
    "duration": 19,
    "start_time": "2023-06-07T14:06:00.707Z"
   },
   {
    "duration": 39,
    "start_time": "2023-06-07T14:06:00.728Z"
   },
   {
    "duration": 68,
    "start_time": "2023-06-07T14:06:00.769Z"
   },
   {
    "duration": 29,
    "start_time": "2023-06-07T14:06:00.839Z"
   },
   {
    "duration": 143,
    "start_time": "2023-06-07T14:06:00.872Z"
   },
   {
    "duration": 1550,
    "start_time": "2023-06-07T14:06:01.016Z"
   },
   {
    "duration": 743,
    "start_time": "2023-06-07T14:06:02.568Z"
   },
   {
    "duration": 32,
    "start_time": "2023-06-07T14:06:03.312Z"
   },
   {
    "duration": 8,
    "start_time": "2023-06-07T14:06:03.346Z"
   },
   {
    "duration": 448,
    "start_time": "2023-06-07T14:06:03.356Z"
   },
   {
    "duration": 23,
    "start_time": "2023-06-07T14:06:03.806Z"
   },
   {
    "duration": 23,
    "start_time": "2023-06-07T14:06:03.830Z"
   },
   {
    "duration": 7,
    "start_time": "2023-06-07T14:06:03.854Z"
   },
   {
    "duration": 38,
    "start_time": "2023-06-07T14:06:03.862Z"
   },
   {
    "duration": 28,
    "start_time": "2023-06-07T14:06:03.901Z"
   },
   {
    "duration": 45,
    "start_time": "2023-06-07T14:06:03.930Z"
   },
   {
    "duration": 17,
    "start_time": "2023-06-07T14:06:03.977Z"
   },
   {
    "duration": 40,
    "start_time": "2023-06-07T14:06:03.996Z"
   },
   {
    "duration": 39,
    "start_time": "2023-06-07T14:06:04.037Z"
   },
   {
    "duration": 18,
    "start_time": "2023-06-07T14:06:04.078Z"
   },
   {
    "duration": 65,
    "start_time": "2023-06-07T14:06:04.097Z"
   },
   {
    "duration": 33,
    "start_time": "2023-06-07T14:06:04.163Z"
   },
   {
    "duration": 50,
    "start_time": "2023-06-07T14:06:04.197Z"
   },
   {
    "duration": 44,
    "start_time": "2023-06-07T14:06:04.249Z"
   },
   {
    "duration": 52,
    "start_time": "2023-06-07T14:06:04.294Z"
   },
   {
    "duration": 9,
    "start_time": "2023-06-07T14:06:04.348Z"
   },
   {
    "duration": 45,
    "start_time": "2023-06-07T14:06:04.359Z"
   },
   {
    "duration": 654,
    "start_time": "2023-06-07T14:06:04.405Z"
   },
   {
    "duration": 392,
    "start_time": "2023-06-07T14:06:05.061Z"
   },
   {
    "duration": 0,
    "start_time": "2023-06-07T14:06:05.456Z"
   },
   {
    "duration": 0,
    "start_time": "2023-06-07T14:06:05.457Z"
   },
   {
    "duration": 0,
    "start_time": "2023-06-07T14:06:05.458Z"
   },
   {
    "duration": 0,
    "start_time": "2023-06-07T14:06:05.459Z"
   },
   {
    "duration": 0,
    "start_time": "2023-06-07T14:06:05.460Z"
   },
   {
    "duration": 0,
    "start_time": "2023-06-07T14:06:05.461Z"
   },
   {
    "duration": 0,
    "start_time": "2023-06-07T14:06:05.462Z"
   },
   {
    "duration": 0,
    "start_time": "2023-06-07T14:06:05.463Z"
   },
   {
    "duration": 0,
    "start_time": "2023-06-07T14:06:05.464Z"
   },
   {
    "duration": 0,
    "start_time": "2023-06-07T14:06:05.464Z"
   },
   {
    "duration": 0,
    "start_time": "2023-06-07T14:06:05.465Z"
   },
   {
    "duration": 0,
    "start_time": "2023-06-07T14:06:05.466Z"
   },
   {
    "duration": 0,
    "start_time": "2023-06-07T14:06:05.467Z"
   },
   {
    "duration": 0,
    "start_time": "2023-06-07T14:06:05.468Z"
   },
   {
    "duration": 0,
    "start_time": "2023-06-07T14:06:05.469Z"
   },
   {
    "duration": 0,
    "start_time": "2023-06-07T14:06:05.470Z"
   },
   {
    "duration": 1,
    "start_time": "2023-06-07T14:06:05.470Z"
   },
   {
    "duration": 0,
    "start_time": "2023-06-07T14:06:05.471Z"
   },
   {
    "duration": 0,
    "start_time": "2023-06-07T14:06:05.472Z"
   },
   {
    "duration": 0,
    "start_time": "2023-06-07T14:06:05.473Z"
   },
   {
    "duration": 0,
    "start_time": "2023-06-07T14:06:05.474Z"
   },
   {
    "duration": 0,
    "start_time": "2023-06-07T14:06:05.474Z"
   },
   {
    "duration": 0,
    "start_time": "2023-06-07T14:06:05.475Z"
   },
   {
    "duration": 0,
    "start_time": "2023-06-07T14:06:05.476Z"
   },
   {
    "duration": 0,
    "start_time": "2023-06-07T14:06:05.517Z"
   },
   {
    "duration": 0,
    "start_time": "2023-06-07T14:06:05.518Z"
   },
   {
    "duration": 0,
    "start_time": "2023-06-07T14:06:05.519Z"
   },
   {
    "duration": 0,
    "start_time": "2023-06-07T14:06:05.520Z"
   },
   {
    "duration": 0,
    "start_time": "2023-06-07T14:06:05.522Z"
   },
   {
    "duration": 0,
    "start_time": "2023-06-07T14:06:05.524Z"
   },
   {
    "duration": 0,
    "start_time": "2023-06-07T14:06:05.524Z"
   },
   {
    "duration": 0,
    "start_time": "2023-06-07T14:06:05.525Z"
   },
   {
    "duration": 0,
    "start_time": "2023-06-07T14:06:05.526Z"
   },
   {
    "duration": 0,
    "start_time": "2023-06-07T14:06:05.529Z"
   },
   {
    "duration": 0,
    "start_time": "2023-06-07T14:06:05.530Z"
   },
   {
    "duration": 0,
    "start_time": "2023-06-07T14:06:05.531Z"
   },
   {
    "duration": 0,
    "start_time": "2023-06-07T14:06:05.532Z"
   },
   {
    "duration": 308,
    "start_time": "2023-06-07T14:10:33.030Z"
   },
   {
    "duration": 1474,
    "start_time": "2023-06-07T14:10:43.030Z"
   },
   {
    "duration": 816,
    "start_time": "2023-06-07T14:10:44.506Z"
   },
   {
    "duration": 778,
    "start_time": "2023-06-07T14:10:45.324Z"
   },
   {
    "duration": 6,
    "start_time": "2023-06-07T14:10:46.104Z"
   },
   {
    "duration": 463,
    "start_time": "2023-06-07T14:10:46.111Z"
   },
   {
    "duration": 43,
    "start_time": "2023-06-07T14:10:46.576Z"
   },
   {
    "duration": 9,
    "start_time": "2023-06-07T14:10:46.620Z"
   },
   {
    "duration": 33,
    "start_time": "2023-06-07T14:10:46.631Z"
   },
   {
    "duration": 545,
    "start_time": "2023-06-07T14:10:46.665Z"
   },
   {
    "duration": 11,
    "start_time": "2023-06-07T14:10:47.217Z"
   },
   {
    "duration": 30,
    "start_time": "2023-06-07T14:10:47.229Z"
   },
   {
    "duration": 24,
    "start_time": "2023-06-07T14:10:47.261Z"
   },
   {
    "duration": 36,
    "start_time": "2023-06-07T14:10:47.287Z"
   },
   {
    "duration": 102,
    "start_time": "2023-06-07T14:10:47.325Z"
   },
   {
    "duration": 1546,
    "start_time": "2023-06-07T14:10:47.429Z"
   },
   {
    "duration": 731,
    "start_time": "2023-06-07T14:10:48.977Z"
   },
   {
    "duration": 27,
    "start_time": "2023-06-07T14:10:49.709Z"
   },
   {
    "duration": 10,
    "start_time": "2023-06-07T14:10:49.738Z"
   },
   {
    "duration": 458,
    "start_time": "2023-06-07T14:10:49.750Z"
   },
   {
    "duration": 22,
    "start_time": "2023-06-07T14:10:50.210Z"
   },
   {
    "duration": 22,
    "start_time": "2023-06-07T14:10:50.234Z"
   },
   {
    "duration": 10,
    "start_time": "2023-06-07T14:10:50.257Z"
   },
   {
    "duration": 24,
    "start_time": "2023-06-07T14:10:50.269Z"
   },
   {
    "duration": 20,
    "start_time": "2023-06-07T14:10:50.318Z"
   },
   {
    "duration": 44,
    "start_time": "2023-06-07T14:10:50.339Z"
   },
   {
    "duration": 18,
    "start_time": "2023-06-07T14:10:50.385Z"
   },
   {
    "duration": 17,
    "start_time": "2023-06-07T14:10:50.417Z"
   },
   {
    "duration": 39,
    "start_time": "2023-06-07T14:10:50.440Z"
   },
   {
    "duration": 37,
    "start_time": "2023-06-07T14:10:50.481Z"
   },
   {
    "duration": 44,
    "start_time": "2023-06-07T14:10:50.520Z"
   },
   {
    "duration": 57,
    "start_time": "2023-06-07T14:10:50.566Z"
   },
   {
    "duration": 49,
    "start_time": "2023-06-07T14:10:50.625Z"
   },
   {
    "duration": 46,
    "start_time": "2023-06-07T14:10:50.675Z"
   },
   {
    "duration": 42,
    "start_time": "2023-06-07T14:10:50.723Z"
   },
   {
    "duration": 10,
    "start_time": "2023-06-07T14:10:50.767Z"
   },
   {
    "duration": 60,
    "start_time": "2023-06-07T14:10:50.778Z"
   },
   {
    "duration": 615,
    "start_time": "2023-06-07T14:10:50.840Z"
   },
   {
    "duration": 304,
    "start_time": "2023-06-07T14:10:51.456Z"
   },
   {
    "duration": 125,
    "start_time": "2023-06-07T14:10:51.761Z"
   },
   {
    "duration": 0,
    "start_time": "2023-06-07T14:10:51.887Z"
   },
   {
    "duration": 0,
    "start_time": "2023-06-07T14:10:51.888Z"
   },
   {
    "duration": 0,
    "start_time": "2023-06-07T14:10:51.889Z"
   },
   {
    "duration": 0,
    "start_time": "2023-06-07T14:10:51.891Z"
   },
   {
    "duration": 0,
    "start_time": "2023-06-07T14:10:51.891Z"
   },
   {
    "duration": 0,
    "start_time": "2023-06-07T14:10:51.892Z"
   },
   {
    "duration": 0,
    "start_time": "2023-06-07T14:10:51.893Z"
   },
   {
    "duration": 0,
    "start_time": "2023-06-07T14:10:51.894Z"
   },
   {
    "duration": 0,
    "start_time": "2023-06-07T14:10:51.894Z"
   },
   {
    "duration": 0,
    "start_time": "2023-06-07T14:10:51.895Z"
   },
   {
    "duration": 0,
    "start_time": "2023-06-07T14:10:51.896Z"
   },
   {
    "duration": 0,
    "start_time": "2023-06-07T14:10:51.933Z"
   },
   {
    "duration": 0,
    "start_time": "2023-06-07T14:10:51.934Z"
   },
   {
    "duration": 0,
    "start_time": "2023-06-07T14:10:51.935Z"
   },
   {
    "duration": 0,
    "start_time": "2023-06-07T14:10:51.936Z"
   },
   {
    "duration": 0,
    "start_time": "2023-06-07T14:10:51.937Z"
   },
   {
    "duration": 0,
    "start_time": "2023-06-07T14:10:51.938Z"
   },
   {
    "duration": 0,
    "start_time": "2023-06-07T14:10:51.940Z"
   },
   {
    "duration": 0,
    "start_time": "2023-06-07T14:10:51.941Z"
   },
   {
    "duration": 0,
    "start_time": "2023-06-07T14:10:51.942Z"
   },
   {
    "duration": 0,
    "start_time": "2023-06-07T14:10:51.943Z"
   },
   {
    "duration": 0,
    "start_time": "2023-06-07T14:10:51.944Z"
   },
   {
    "duration": 1,
    "start_time": "2023-06-07T14:10:51.944Z"
   },
   {
    "duration": 0,
    "start_time": "2023-06-07T14:10:51.946Z"
   },
   {
    "duration": 0,
    "start_time": "2023-06-07T14:10:51.946Z"
   },
   {
    "duration": 0,
    "start_time": "2023-06-07T14:10:51.948Z"
   },
   {
    "duration": 0,
    "start_time": "2023-06-07T14:10:51.949Z"
   },
   {
    "duration": 0,
    "start_time": "2023-06-07T14:10:51.949Z"
   },
   {
    "duration": 0,
    "start_time": "2023-06-07T14:10:51.950Z"
   },
   {
    "duration": 1,
    "start_time": "2023-06-07T14:10:51.950Z"
   },
   {
    "duration": 0,
    "start_time": "2023-06-07T14:10:51.951Z"
   },
   {
    "duration": 0,
    "start_time": "2023-06-07T14:10:51.952Z"
   },
   {
    "duration": 0,
    "start_time": "2023-06-07T14:10:51.953Z"
   },
   {
    "duration": 0,
    "start_time": "2023-06-07T14:10:51.955Z"
   },
   {
    "duration": 0,
    "start_time": "2023-06-07T14:10:51.955Z"
   },
   {
    "duration": 10,
    "start_time": "2023-06-07T14:11:57.657Z"
   },
   {
    "duration": 13,
    "start_time": "2023-06-07T14:28:34.637Z"
   },
   {
    "duration": 5,
    "start_time": "2023-06-07T14:28:56.127Z"
   },
   {
    "duration": 1418,
    "start_time": "2023-06-07T14:29:21.369Z"
   },
   {
    "duration": 748,
    "start_time": "2023-06-07T14:29:22.789Z"
   },
   {
    "duration": 764,
    "start_time": "2023-06-07T14:29:23.539Z"
   },
   {
    "duration": 14,
    "start_time": "2023-06-07T14:29:24.305Z"
   },
   {
    "duration": 468,
    "start_time": "2023-06-07T14:29:24.320Z"
   },
   {
    "duration": 48,
    "start_time": "2023-06-07T14:29:24.790Z"
   },
   {
    "duration": 11,
    "start_time": "2023-06-07T14:29:24.840Z"
   },
   {
    "duration": 36,
    "start_time": "2023-06-07T14:29:24.853Z"
   },
   {
    "duration": 608,
    "start_time": "2023-06-07T14:29:24.891Z"
   },
   {
    "duration": 18,
    "start_time": "2023-06-07T14:29:25.502Z"
   },
   {
    "duration": 30,
    "start_time": "2023-06-07T14:29:25.521Z"
   },
   {
    "duration": 25,
    "start_time": "2023-06-07T14:29:25.553Z"
   },
   {
    "duration": 39,
    "start_time": "2023-06-07T14:29:25.580Z"
   },
   {
    "duration": 107,
    "start_time": "2023-06-07T14:29:25.621Z"
   },
   {
    "duration": 1559,
    "start_time": "2023-06-07T14:29:25.730Z"
   },
   {
    "duration": 748,
    "start_time": "2023-06-07T14:29:27.291Z"
   },
   {
    "duration": 23,
    "start_time": "2023-06-07T14:29:28.041Z"
   },
   {
    "duration": 8,
    "start_time": "2023-06-07T14:29:28.065Z"
   },
   {
    "duration": 495,
    "start_time": "2023-06-07T14:29:28.074Z"
   },
   {
    "duration": 16,
    "start_time": "2023-06-07T14:29:28.571Z"
   },
   {
    "duration": 36,
    "start_time": "2023-06-07T14:29:28.588Z"
   },
   {
    "duration": 8,
    "start_time": "2023-06-07T14:29:28.626Z"
   },
   {
    "duration": 26,
    "start_time": "2023-06-07T14:29:28.636Z"
   },
   {
    "duration": 12,
    "start_time": "2023-06-07T14:29:28.664Z"
   },
   {
    "duration": 62,
    "start_time": "2023-06-07T14:29:28.677Z"
   },
   {
    "duration": 20,
    "start_time": "2023-06-07T14:29:28.741Z"
   },
   {
    "duration": 17,
    "start_time": "2023-06-07T14:29:28.762Z"
   },
   {
    "duration": 58,
    "start_time": "2023-06-07T14:29:28.782Z"
   },
   {
    "duration": 17,
    "start_time": "2023-06-07T14:29:28.842Z"
   },
   {
    "duration": 38,
    "start_time": "2023-06-07T14:29:28.860Z"
   },
   {
    "duration": 48,
    "start_time": "2023-06-07T14:29:28.900Z"
   },
   {
    "duration": 35,
    "start_time": "2023-06-07T14:29:28.949Z"
   },
   {
    "duration": 72,
    "start_time": "2023-06-07T14:29:28.986Z"
   },
   {
    "duration": 52,
    "start_time": "2023-06-07T14:29:29.059Z"
   },
   {
    "duration": 14,
    "start_time": "2023-06-07T14:29:29.112Z"
   },
   {
    "duration": 42,
    "start_time": "2023-06-07T14:29:29.128Z"
   },
   {
    "duration": 594,
    "start_time": "2023-06-07T14:29:29.171Z"
   },
   {
    "duration": 324,
    "start_time": "2023-06-07T14:29:29.766Z"
   },
   {
    "duration": 5,
    "start_time": "2023-06-07T14:29:30.092Z"
   },
   {
    "duration": 20521,
    "start_time": "2023-06-07T14:29:30.098Z"
   },
   {
    "duration": 598,
    "start_time": "2023-06-07T14:29:50.620Z"
   },
   {
    "duration": 6,
    "start_time": "2023-06-07T14:29:51.220Z"
   },
   {
    "duration": 195,
    "start_time": "2023-06-07T14:29:51.228Z"
   },
   {
    "duration": 12,
    "start_time": "2023-06-07T14:29:51.424Z"
   },
   {
    "duration": 199,
    "start_time": "2023-06-07T14:29:51.437Z"
   },
   {
    "duration": 76490,
    "start_time": "2023-06-07T14:29:51.638Z"
   },
   {
    "duration": 997,
    "start_time": "2023-06-07T14:31:08.130Z"
   },
   {
    "duration": 378327,
    "start_time": "2023-06-07T14:31:09.131Z"
   },
   {
    "duration": 28070,
    "start_time": "2023-06-07T14:37:27.459Z"
   },
   {
    "duration": 128,
    "start_time": "2023-06-07T14:37:55.530Z"
   },
   {
    "duration": 4,
    "start_time": "2023-06-07T14:37:55.660Z"
   },
   {
    "duration": 358064,
    "start_time": "2023-06-07T14:37:55.665Z"
   },
   {
    "duration": 27176,
    "start_time": "2023-06-07T14:43:53.730Z"
   },
   {
    "duration": 203,
    "start_time": "2023-06-07T14:44:20.908Z"
   },
   {
    "duration": 5,
    "start_time": "2023-06-07T14:44:21.113Z"
   },
   {
    "duration": 30351,
    "start_time": "2023-06-07T14:44:21.119Z"
   },
   {
    "duration": 142,
    "start_time": "2023-06-07T14:44:51.471Z"
   },
   {
    "duration": 5,
    "start_time": "2023-06-07T14:44:51.615Z"
   },
   {
    "duration": 592403,
    "start_time": "2023-06-07T14:44:51.621Z"
   },
   {
    "duration": 16792,
    "start_time": "2023-06-07T14:54:44.026Z"
   },
   {
    "duration": 1011,
    "start_time": "2023-06-07T14:55:00.820Z"
   },
   {
    "duration": 5,
    "start_time": "2023-06-07T14:55:01.832Z"
   },
   {
    "duration": 4573286,
    "start_time": "2023-06-07T14:55:01.839Z"
   },
   {
    "duration": 5598,
    "start_time": "2023-06-07T16:11:15.126Z"
   },
   {
    "duration": 124,
    "start_time": "2023-06-07T16:11:20.726Z"
   },
   {
    "duration": 5,
    "start_time": "2023-06-07T16:11:20.852Z"
   },
   {
    "duration": 25,
    "start_time": "2023-06-07T16:11:20.859Z"
   },
   {
    "duration": 11541,
    "start_time": "2023-06-07T16:11:20.886Z"
   },
   {
    "duration": 193,
    "start_time": "2023-06-07T16:11:32.429Z"
   },
   {
    "duration": 8,
    "start_time": "2023-06-07T16:11:32.623Z"
   },
   {
    "duration": 0,
    "start_time": "2023-06-07T16:11:32.632Z"
   },
   {
    "duration": 1,
    "start_time": "2023-06-07T16:11:32.633Z"
   },
   {
    "duration": 0,
    "start_time": "2023-06-07T16:11:32.635Z"
   },
   {
    "duration": 0,
    "start_time": "2023-06-07T16:11:32.636Z"
   },
   {
    "duration": 179,
    "start_time": "2023-06-07T16:31:25.047Z"
   },
   {
    "duration": 7,
    "start_time": "2023-06-07T16:31:55.581Z"
   },
   {
    "duration": 128,
    "start_time": "2023-06-07T16:32:41.638Z"
   },
   {
    "duration": 89,
    "start_time": "2023-06-07T16:33:07.397Z"
   },
   {
    "duration": 147,
    "start_time": "2023-06-07T16:34:17.788Z"
   },
   {
    "duration": 8,
    "start_time": "2023-06-07T16:35:12.348Z"
   },
   {
    "duration": 13,
    "start_time": "2023-06-07T16:35:18.109Z"
   },
   {
    "duration": 12383,
    "start_time": "2023-06-07T16:35:21.141Z"
   },
   {
    "duration": 999,
    "start_time": "2023-06-07T16:35:33.526Z"
   },
   {
    "duration": 5,
    "start_time": "2023-06-07T16:35:34.527Z"
   },
   {
    "duration": 92,
    "start_time": "2023-06-07T16:35:34.534Z"
   },
   {
    "duration": 2670,
    "start_time": "2023-06-08T06:50:02.567Z"
   },
   {
    "duration": 890,
    "start_time": "2023-06-08T06:50:05.239Z"
   },
   {
    "duration": 661,
    "start_time": "2023-06-08T06:50:06.131Z"
   },
   {
    "duration": 5,
    "start_time": "2023-06-08T06:50:06.794Z"
   },
   {
    "duration": 402,
    "start_time": "2023-06-08T06:50:06.801Z"
   },
   {
    "duration": 37,
    "start_time": "2023-06-08T06:50:07.204Z"
   },
   {
    "duration": 9,
    "start_time": "2023-06-08T06:50:07.243Z"
   },
   {
    "duration": 45,
    "start_time": "2023-06-08T06:50:07.253Z"
   },
   {
    "duration": 453,
    "start_time": "2023-06-08T06:50:07.300Z"
   },
   {
    "duration": 10,
    "start_time": "2023-06-08T06:50:07.754Z"
   },
   {
    "duration": 30,
    "start_time": "2023-06-08T06:50:07.765Z"
   },
   {
    "duration": 29,
    "start_time": "2023-06-08T06:50:07.796Z"
   },
   {
    "duration": 7,
    "start_time": "2023-06-08T06:50:07.827Z"
   },
   {
    "duration": 27,
    "start_time": "2023-06-08T06:50:07.836Z"
   },
   {
    "duration": 1467,
    "start_time": "2023-06-08T06:50:07.864Z"
   },
   {
    "duration": 724,
    "start_time": "2023-06-08T06:50:09.332Z"
   },
   {
    "duration": 23,
    "start_time": "2023-06-08T06:50:10.058Z"
   },
   {
    "duration": 23,
    "start_time": "2023-06-08T06:50:10.083Z"
   },
   {
    "duration": 423,
    "start_time": "2023-06-08T06:50:10.108Z"
   },
   {
    "duration": 15,
    "start_time": "2023-06-08T06:50:10.533Z"
   },
   {
    "duration": 20,
    "start_time": "2023-06-08T06:50:10.550Z"
   },
   {
    "duration": 7,
    "start_time": "2023-06-08T06:50:10.572Z"
   },
   {
    "duration": 41,
    "start_time": "2023-06-08T06:50:10.580Z"
   },
   {
    "duration": 14,
    "start_time": "2023-06-08T06:50:10.623Z"
   },
   {
    "duration": 50,
    "start_time": "2023-06-08T06:50:10.638Z"
   },
   {
    "duration": 18,
    "start_time": "2023-06-08T06:50:10.690Z"
   },
   {
    "duration": 20,
    "start_time": "2023-06-08T06:50:10.710Z"
   },
   {
    "duration": 35,
    "start_time": "2023-06-08T06:50:10.731Z"
   },
   {
    "duration": 16,
    "start_time": "2023-06-08T06:50:10.767Z"
   },
   {
    "duration": 61,
    "start_time": "2023-06-08T06:50:10.785Z"
   },
   {
    "duration": 44,
    "start_time": "2023-06-08T06:50:10.848Z"
   },
   {
    "duration": 45,
    "start_time": "2023-06-08T06:50:10.894Z"
   },
   {
    "duration": 40,
    "start_time": "2023-06-08T06:50:10.941Z"
   },
   {
    "duration": 51,
    "start_time": "2023-06-08T06:50:10.983Z"
   },
   {
    "duration": 10,
    "start_time": "2023-06-08T06:50:14.245Z"
   },
   {
    "duration": 40,
    "start_time": "2023-06-08T06:50:16.677Z"
   },
   {
    "duration": 442,
    "start_time": "2023-06-08T06:50:42.566Z"
   },
   {
    "duration": 396,
    "start_time": "2023-06-08T06:51:52.822Z"
   },
   {
    "duration": 450,
    "start_time": "2023-06-08T06:52:00.300Z"
   },
   {
    "duration": 8,
    "start_time": "2023-06-08T06:52:03.290Z"
   },
   {
    "duration": 5,
    "start_time": "2023-06-08T06:52:50.589Z"
   },
   {
    "duration": 15895,
    "start_time": "2023-06-08T06:56:21.038Z"
   },
   {
    "duration": 901,
    "start_time": "2023-06-08T06:56:37.018Z"
   },
   {
    "duration": 4,
    "start_time": "2023-06-08T06:56:37.921Z"
   },
   {
    "duration": 14,
    "start_time": "2023-06-08T06:56:37.927Z"
   },
   {
    "duration": 1559,
    "start_time": "2023-06-08T13:42:12.179Z"
   },
   {
    "duration": 1101,
    "start_time": "2023-06-08T13:42:13.740Z"
   },
   {
    "duration": 811,
    "start_time": "2023-06-08T13:42:14.842Z"
   },
   {
    "duration": 6,
    "start_time": "2023-06-08T13:42:15.655Z"
   },
   {
    "duration": 483,
    "start_time": "2023-06-08T13:42:15.663Z"
   },
   {
    "duration": 39,
    "start_time": "2023-06-08T13:42:16.147Z"
   },
   {
    "duration": 15,
    "start_time": "2023-06-08T13:42:16.188Z"
   },
   {
    "duration": 47,
    "start_time": "2023-06-08T13:42:16.205Z"
   },
   {
    "duration": 510,
    "start_time": "2023-06-08T13:42:16.254Z"
   },
   {
    "duration": 12,
    "start_time": "2023-06-08T13:42:16.765Z"
   },
   {
    "duration": 52,
    "start_time": "2023-06-08T13:42:16.779Z"
   },
   {
    "duration": 26,
    "start_time": "2023-06-08T13:42:16.833Z"
   },
   {
    "duration": 10,
    "start_time": "2023-06-08T13:42:16.862Z"
   },
   {
    "duration": 123,
    "start_time": "2023-06-08T13:42:16.875Z"
   },
   {
    "duration": 1498,
    "start_time": "2023-06-08T13:42:16.999Z"
   },
   {
    "duration": 750,
    "start_time": "2023-06-08T13:42:18.499Z"
   },
   {
    "duration": 23,
    "start_time": "2023-06-08T13:42:19.250Z"
   },
   {
    "duration": 9,
    "start_time": "2023-06-08T13:42:19.274Z"
   },
   {
    "duration": 462,
    "start_time": "2023-06-08T13:42:19.284Z"
   },
   {
    "duration": 16,
    "start_time": "2023-06-08T13:42:19.748Z"
   },
   {
    "duration": 21,
    "start_time": "2023-06-08T13:42:19.765Z"
   },
   {
    "duration": 6,
    "start_time": "2023-06-08T13:42:19.788Z"
   },
   {
    "duration": 52,
    "start_time": "2023-06-08T13:42:19.795Z"
   },
   {
    "duration": 13,
    "start_time": "2023-06-08T13:42:19.848Z"
   },
   {
    "duration": 72,
    "start_time": "2023-06-08T13:42:19.863Z"
   },
   {
    "duration": 20,
    "start_time": "2023-06-08T13:42:19.938Z"
   },
   {
    "duration": 16,
    "start_time": "2023-06-08T13:42:19.959Z"
   },
   {
    "duration": 67,
    "start_time": "2023-06-08T13:42:19.977Z"
   },
   {
    "duration": 17,
    "start_time": "2023-06-08T13:42:20.046Z"
   },
   {
    "duration": 66,
    "start_time": "2023-06-08T13:42:20.064Z"
   },
   {
    "duration": 32,
    "start_time": "2023-06-08T13:42:20.132Z"
   },
   {
    "duration": 62,
    "start_time": "2023-06-08T13:42:20.166Z"
   },
   {
    "duration": 41,
    "start_time": "2023-06-08T13:42:20.230Z"
   },
   {
    "duration": 42,
    "start_time": "2023-06-08T13:42:20.274Z"
   },
   {
    "duration": 15,
    "start_time": "2023-06-08T13:42:20.318Z"
   },
   {
    "duration": 54,
    "start_time": "2023-06-08T13:42:20.334Z"
   },
   {
    "duration": 462,
    "start_time": "2023-06-08T13:42:20.390Z"
   },
   {
    "duration": 476,
    "start_time": "2023-06-08T13:42:20.854Z"
   },
   {
    "duration": 5,
    "start_time": "2023-06-08T13:42:21.334Z"
   },
   {
    "duration": 243,
    "start_time": "2023-06-08T13:42:21.340Z"
   },
   {
    "duration": 100,
    "start_time": "2023-06-08T13:42:21.587Z"
   },
   {
    "duration": 8,
    "start_time": "2023-06-08T13:42:21.689Z"
   },
   {
    "duration": 0,
    "start_time": "2023-06-08T13:42:21.699Z"
   },
   {
    "duration": 0,
    "start_time": "2023-06-08T13:42:21.700Z"
   },
   {
    "duration": 0,
    "start_time": "2023-06-08T13:42:21.700Z"
   },
   {
    "duration": 0,
    "start_time": "2023-06-08T13:42:21.701Z"
   },
   {
    "duration": 0,
    "start_time": "2023-06-08T13:42:21.702Z"
   },
   {
    "duration": 0,
    "start_time": "2023-06-08T13:42:21.703Z"
   },
   {
    "duration": 0,
    "start_time": "2023-06-08T13:42:21.704Z"
   },
   {
    "duration": 0,
    "start_time": "2023-06-08T13:42:21.705Z"
   },
   {
    "duration": 0,
    "start_time": "2023-06-08T13:42:21.706Z"
   },
   {
    "duration": 0,
    "start_time": "2023-06-08T13:42:21.707Z"
   },
   {
    "duration": 0,
    "start_time": "2023-06-08T13:42:21.708Z"
   },
   {
    "duration": 0,
    "start_time": "2023-06-08T13:42:21.709Z"
   },
   {
    "duration": 0,
    "start_time": "2023-06-08T13:42:21.710Z"
   },
   {
    "duration": 0,
    "start_time": "2023-06-08T13:42:21.710Z"
   },
   {
    "duration": 0,
    "start_time": "2023-06-08T13:42:21.711Z"
   },
   {
    "duration": 0,
    "start_time": "2023-06-08T13:42:21.712Z"
   },
   {
    "duration": 1,
    "start_time": "2023-06-08T13:42:21.713Z"
   },
   {
    "duration": 0,
    "start_time": "2023-06-08T13:42:21.714Z"
   },
   {
    "duration": 0,
    "start_time": "2023-06-08T13:42:21.717Z"
   },
   {
    "duration": 0,
    "start_time": "2023-06-08T13:42:21.718Z"
   },
   {
    "duration": 0,
    "start_time": "2023-06-08T13:42:21.719Z"
   },
   {
    "duration": 0,
    "start_time": "2023-06-08T13:42:21.720Z"
   },
   {
    "duration": 0,
    "start_time": "2023-06-08T13:42:21.721Z"
   },
   {
    "duration": 0,
    "start_time": "2023-06-08T13:42:21.722Z"
   },
   {
    "duration": 0,
    "start_time": "2023-06-08T13:42:21.723Z"
   },
   {
    "duration": 0,
    "start_time": "2023-06-08T13:42:21.724Z"
   },
   {
    "duration": 0,
    "start_time": "2023-06-08T13:42:21.724Z"
   },
   {
    "duration": 0,
    "start_time": "2023-06-08T13:42:21.726Z"
   },
   {
    "duration": 1441,
    "start_time": "2023-06-08T13:44:21.742Z"
   },
   {
    "duration": 820,
    "start_time": "2023-06-08T13:44:23.184Z"
   },
   {
    "duration": 768,
    "start_time": "2023-06-08T13:44:24.005Z"
   },
   {
    "duration": 6,
    "start_time": "2023-06-08T13:44:24.774Z"
   },
   {
    "duration": 474,
    "start_time": "2023-06-08T13:44:24.782Z"
   },
   {
    "duration": 37,
    "start_time": "2023-06-08T13:44:25.258Z"
   },
   {
    "duration": 21,
    "start_time": "2023-06-08T13:44:25.296Z"
   },
   {
    "duration": 35,
    "start_time": "2023-06-08T13:44:25.328Z"
   },
   {
    "duration": 535,
    "start_time": "2023-06-08T13:44:25.365Z"
   },
   {
    "duration": 22,
    "start_time": "2023-06-08T13:44:25.902Z"
   },
   {
    "duration": 50,
    "start_time": "2023-06-08T13:44:25.926Z"
   },
   {
    "duration": 29,
    "start_time": "2023-06-08T13:44:25.978Z"
   },
   {
    "duration": 12,
    "start_time": "2023-06-08T13:44:26.009Z"
   },
   {
    "duration": 124,
    "start_time": "2023-06-08T13:44:26.023Z"
   },
   {
    "duration": 1486,
    "start_time": "2023-06-08T13:44:26.149Z"
   },
   {
    "duration": 799,
    "start_time": "2023-06-08T13:44:27.636Z"
   },
   {
    "duration": 23,
    "start_time": "2023-06-08T13:44:28.437Z"
   },
   {
    "duration": 8,
    "start_time": "2023-06-08T13:44:28.462Z"
   },
   {
    "duration": 480,
    "start_time": "2023-06-08T13:44:28.471Z"
   },
   {
    "duration": 18,
    "start_time": "2023-06-08T13:44:28.953Z"
   },
   {
    "duration": 55,
    "start_time": "2023-06-08T13:44:28.972Z"
   },
   {
    "duration": 8,
    "start_time": "2023-06-08T13:44:29.030Z"
   },
   {
    "duration": 30,
    "start_time": "2023-06-08T13:44:29.040Z"
   },
   {
    "duration": 33,
    "start_time": "2023-06-08T13:44:29.073Z"
   },
   {
    "duration": 59,
    "start_time": "2023-06-08T13:44:29.108Z"
   },
   {
    "duration": 29,
    "start_time": "2023-06-08T13:44:29.169Z"
   },
   {
    "duration": 37,
    "start_time": "2023-06-08T13:44:29.200Z"
   },
   {
    "duration": 39,
    "start_time": "2023-06-08T13:44:29.241Z"
   },
   {
    "duration": 17,
    "start_time": "2023-06-08T13:44:29.282Z"
   },
   {
    "duration": 59,
    "start_time": "2023-06-08T13:44:29.317Z"
   },
   {
    "duration": 33,
    "start_time": "2023-06-08T13:44:29.378Z"
   },
   {
    "duration": 69,
    "start_time": "2023-06-08T13:44:29.412Z"
   },
   {
    "duration": 61,
    "start_time": "2023-06-08T13:44:29.483Z"
   },
   {
    "duration": 41,
    "start_time": "2023-06-08T13:44:29.546Z"
   },
   {
    "duration": 10,
    "start_time": "2023-06-08T13:44:29.589Z"
   },
   {
    "duration": 54,
    "start_time": "2023-06-08T13:44:29.600Z"
   },
   {
    "duration": 486,
    "start_time": "2023-06-08T13:44:29.656Z"
   },
   {
    "duration": 460,
    "start_time": "2023-06-08T13:44:30.143Z"
   },
   {
    "duration": 303,
    "start_time": "2023-06-08T13:44:30.604Z"
   },
   {
    "duration": 18,
    "start_time": "2023-06-08T13:44:30.908Z"
   },
   {
    "duration": 238,
    "start_time": "2023-06-08T13:44:30.936Z"
   },
   {
    "duration": 95,
    "start_time": "2023-06-08T13:44:31.175Z"
   },
   {
    "duration": 11,
    "start_time": "2023-06-08T13:44:31.272Z"
   },
   {
    "duration": 0,
    "start_time": "2023-06-08T13:44:31.285Z"
   },
   {
    "duration": 0,
    "start_time": "2023-06-08T13:44:31.287Z"
   },
   {
    "duration": 0,
    "start_time": "2023-06-08T13:44:31.288Z"
   },
   {
    "duration": 0,
    "start_time": "2023-06-08T13:44:31.289Z"
   },
   {
    "duration": 0,
    "start_time": "2023-06-08T13:44:31.290Z"
   },
   {
    "duration": 0,
    "start_time": "2023-06-08T13:44:31.291Z"
   },
   {
    "duration": 0,
    "start_time": "2023-06-08T13:44:31.293Z"
   },
   {
    "duration": 0,
    "start_time": "2023-06-08T13:44:31.294Z"
   },
   {
    "duration": 0,
    "start_time": "2023-06-08T13:44:31.295Z"
   },
   {
    "duration": 0,
    "start_time": "2023-06-08T13:44:31.296Z"
   },
   {
    "duration": 0,
    "start_time": "2023-06-08T13:44:31.298Z"
   },
   {
    "duration": 0,
    "start_time": "2023-06-08T13:44:31.299Z"
   },
   {
    "duration": 0,
    "start_time": "2023-06-08T13:44:31.301Z"
   },
   {
    "duration": 0,
    "start_time": "2023-06-08T13:44:31.302Z"
   },
   {
    "duration": 0,
    "start_time": "2023-06-08T13:44:31.304Z"
   },
   {
    "duration": 0,
    "start_time": "2023-06-08T13:44:31.305Z"
   },
   {
    "duration": 0,
    "start_time": "2023-06-08T13:44:31.306Z"
   },
   {
    "duration": 0,
    "start_time": "2023-06-08T13:44:31.308Z"
   },
   {
    "duration": 0,
    "start_time": "2023-06-08T13:44:31.309Z"
   },
   {
    "duration": 0,
    "start_time": "2023-06-08T13:44:31.310Z"
   },
   {
    "duration": 0,
    "start_time": "2023-06-08T13:44:31.312Z"
   },
   {
    "duration": 0,
    "start_time": "2023-06-08T13:44:31.321Z"
   },
   {
    "duration": 0,
    "start_time": "2023-06-08T13:44:31.324Z"
   },
   {
    "duration": 0,
    "start_time": "2023-06-08T13:44:31.327Z"
   },
   {
    "duration": 0,
    "start_time": "2023-06-08T13:44:31.328Z"
   },
   {
    "duration": 0,
    "start_time": "2023-06-08T13:44:31.329Z"
   },
   {
    "duration": 0,
    "start_time": "2023-06-08T13:44:31.330Z"
   },
   {
    "duration": 0,
    "start_time": "2023-06-08T13:44:31.332Z"
   },
   {
    "duration": 1462,
    "start_time": "2023-06-08T13:44:58.105Z"
   },
   {
    "duration": 816,
    "start_time": "2023-06-08T13:44:59.569Z"
   },
   {
    "duration": 792,
    "start_time": "2023-06-08T13:45:00.386Z"
   },
   {
    "duration": 6,
    "start_time": "2023-06-08T13:45:01.181Z"
   },
   {
    "duration": 541,
    "start_time": "2023-06-08T13:45:01.189Z"
   },
   {
    "duration": 47,
    "start_time": "2023-06-08T13:45:01.732Z"
   },
   {
    "duration": 62,
    "start_time": "2023-06-08T13:45:01.780Z"
   },
   {
    "duration": 86,
    "start_time": "2023-06-08T13:45:01.844Z"
   },
   {
    "duration": 515,
    "start_time": "2023-06-08T13:45:01.932Z"
   },
   {
    "duration": 14,
    "start_time": "2023-06-08T13:45:02.450Z"
   },
   {
    "duration": 163,
    "start_time": "2023-06-08T13:45:02.466Z"
   },
   {
    "duration": 74,
    "start_time": "2023-06-08T13:45:02.631Z"
   },
   {
    "duration": 55,
    "start_time": "2023-06-08T13:45:02.706Z"
   },
   {
    "duration": 125,
    "start_time": "2023-06-08T13:45:02.763Z"
   },
   {
    "duration": 1613,
    "start_time": "2023-06-08T13:45:02.890Z"
   },
   {
    "duration": 770,
    "start_time": "2023-06-08T13:45:04.505Z"
   },
   {
    "duration": 24,
    "start_time": "2023-06-08T13:45:05.276Z"
   },
   {
    "duration": 78,
    "start_time": "2023-06-08T13:45:05.301Z"
   },
   {
    "duration": 552,
    "start_time": "2023-06-08T13:45:05.381Z"
   },
   {
    "duration": 16,
    "start_time": "2023-06-08T13:45:05.934Z"
   },
   {
    "duration": 79,
    "start_time": "2023-06-08T13:45:05.952Z"
   },
   {
    "duration": 50,
    "start_time": "2023-06-08T13:45:06.033Z"
   },
   {
    "duration": 98,
    "start_time": "2023-06-08T13:45:06.085Z"
   },
   {
    "duration": 70,
    "start_time": "2023-06-08T13:45:06.185Z"
   },
   {
    "duration": 129,
    "start_time": "2023-06-08T13:45:06.257Z"
   },
   {
    "duration": 87,
    "start_time": "2023-06-08T13:45:06.388Z"
   },
   {
    "duration": 59,
    "start_time": "2023-06-08T13:45:06.476Z"
   },
   {
    "duration": 60,
    "start_time": "2023-06-08T13:45:06.539Z"
   },
   {
    "duration": 44,
    "start_time": "2023-06-08T13:45:06.601Z"
   },
   {
    "duration": 56,
    "start_time": "2023-06-08T13:45:06.646Z"
   },
   {
    "duration": 59,
    "start_time": "2023-06-08T13:45:06.704Z"
   },
   {
    "duration": 122,
    "start_time": "2023-06-08T13:45:06.765Z"
   },
   {
    "duration": 97,
    "start_time": "2023-06-08T13:45:06.889Z"
   },
   {
    "duration": 47,
    "start_time": "2023-06-08T13:45:06.988Z"
   },
   {
    "duration": 26,
    "start_time": "2023-06-08T13:45:07.036Z"
   },
   {
    "duration": 104,
    "start_time": "2023-06-08T13:45:07.063Z"
   },
   {
    "duration": 515,
    "start_time": "2023-06-08T13:45:07.168Z"
   },
   {
    "duration": 506,
    "start_time": "2023-06-08T13:45:07.685Z"
   },
   {
    "duration": 301,
    "start_time": "2023-06-08T13:45:08.193Z"
   },
   {
    "duration": 6,
    "start_time": "2023-06-08T13:45:08.496Z"
   },
   {
    "duration": 40020,
    "start_time": "2023-06-08T13:45:08.503Z"
   },
   {
    "duration": 595,
    "start_time": "2023-06-08T13:45:48.525Z"
   },
   {
    "duration": 10,
    "start_time": "2023-06-08T13:45:49.122Z"
   },
   {
    "duration": 166,
    "start_time": "2023-06-08T13:45:49.134Z"
   },
   {
    "duration": 24,
    "start_time": "2023-06-08T13:45:49.302Z"
   },
   {
    "duration": 123,
    "start_time": "2023-06-08T13:45:49.329Z"
   },
   {
    "duration": 174180,
    "start_time": "2023-06-08T13:45:49.453Z"
   },
   {
    "duration": 899,
    "start_time": "2023-06-08T13:48:43.634Z"
   },
   {
    "duration": 425679,
    "start_time": "2023-06-08T13:48:44.534Z"
   },
   {
    "duration": 34849,
    "start_time": "2023-06-08T13:55:50.215Z"
   },
   {
    "duration": 128,
    "start_time": "2023-06-08T13:56:25.066Z"
   },
   {
    "duration": 5,
    "start_time": "2023-06-08T13:56:25.196Z"
   },
   {
    "duration": 373107,
    "start_time": "2023-06-08T13:56:25.203Z"
   },
   {
    "duration": 29461,
    "start_time": "2023-06-08T14:02:38.311Z"
   },
   {
    "duration": 3903,
    "start_time": "2023-06-08T14:03:07.774Z"
   },
   {
    "duration": 5,
    "start_time": "2023-06-08T14:03:11.678Z"
   },
   {
    "duration": 30827,
    "start_time": "2023-06-08T14:03:11.684Z"
   },
   {
    "duration": 146,
    "start_time": "2023-06-08T14:03:42.512Z"
   },
   {
    "duration": 6,
    "start_time": "2023-06-08T14:03:42.660Z"
   },
   {
    "duration": 1752,
    "start_time": "2023-06-11T15:27:00.174Z"
   },
   {
    "duration": 1206,
    "start_time": "2023-06-11T15:27:01.928Z"
   },
   {
    "duration": 801,
    "start_time": "2023-06-11T15:27:03.136Z"
   },
   {
    "duration": 6,
    "start_time": "2023-06-11T15:27:03.940Z"
   },
   {
    "duration": 518,
    "start_time": "2023-06-11T15:27:03.947Z"
   },
   {
    "duration": 42,
    "start_time": "2023-06-11T15:27:04.467Z"
   },
   {
    "duration": 16,
    "start_time": "2023-06-11T15:27:04.512Z"
   },
   {
    "duration": 55,
    "start_time": "2023-06-11T15:27:04.530Z"
   },
   {
    "duration": 584,
    "start_time": "2023-06-11T15:27:04.588Z"
   },
   {
    "duration": 11,
    "start_time": "2023-06-11T15:27:05.175Z"
   },
   {
    "duration": 29,
    "start_time": "2023-06-11T15:27:05.188Z"
   },
   {
    "duration": 23,
    "start_time": "2023-06-11T15:27:05.219Z"
   },
   {
    "duration": 8,
    "start_time": "2023-06-11T15:27:05.271Z"
   },
   {
    "duration": 126,
    "start_time": "2023-06-11T15:27:05.281Z"
   },
   {
    "duration": 1717,
    "start_time": "2023-06-11T15:27:05.409Z"
   },
   {
    "duration": 754,
    "start_time": "2023-06-11T15:27:07.127Z"
   },
   {
    "duration": 31,
    "start_time": "2023-06-11T15:27:07.883Z"
   },
   {
    "duration": 11,
    "start_time": "2023-06-11T15:27:07.917Z"
   },
   {
    "duration": 496,
    "start_time": "2023-06-11T15:27:07.930Z"
   },
   {
    "duration": 18,
    "start_time": "2023-06-11T15:27:08.429Z"
   },
   {
    "duration": 87,
    "start_time": "2023-06-11T15:27:08.448Z"
   },
   {
    "duration": 14,
    "start_time": "2023-06-11T15:27:08.537Z"
   },
   {
    "duration": 29,
    "start_time": "2023-06-11T15:27:08.554Z"
   },
   {
    "duration": 45,
    "start_time": "2023-06-11T15:27:08.584Z"
   },
   {
    "duration": 71,
    "start_time": "2023-06-11T15:27:08.631Z"
   },
   {
    "duration": 20,
    "start_time": "2023-06-11T15:27:08.704Z"
   },
   {
    "duration": 26,
    "start_time": "2023-06-11T15:27:08.727Z"
   },
   {
    "duration": 44,
    "start_time": "2023-06-11T15:27:08.757Z"
   },
   {
    "duration": 19,
    "start_time": "2023-06-11T15:27:08.803Z"
   },
   {
    "duration": 55,
    "start_time": "2023-06-11T15:27:08.824Z"
   },
   {
    "duration": 35,
    "start_time": "2023-06-11T15:27:08.881Z"
   },
   {
    "duration": 34,
    "start_time": "2023-06-11T15:27:08.917Z"
   },
   {
    "duration": 41,
    "start_time": "2023-06-11T15:27:08.971Z"
   },
   {
    "duration": 63,
    "start_time": "2023-06-11T15:27:09.014Z"
   },
   {
    "duration": 10,
    "start_time": "2023-06-11T15:27:09.078Z"
   },
   {
    "duration": 47,
    "start_time": "2023-06-11T15:27:09.090Z"
   },
   {
    "duration": 675,
    "start_time": "2023-06-11T15:27:09.139Z"
   },
   {
    "duration": 456,
    "start_time": "2023-06-11T15:27:09.816Z"
   },
   {
    "duration": 272,
    "start_time": "2023-06-11T15:27:10.274Z"
   },
   {
    "duration": 6,
    "start_time": "2023-06-11T15:27:10.549Z"
   },
   {
    "duration": 50017,
    "start_time": "2023-06-11T15:27:10.557Z"
   },
   {
    "duration": 808,
    "start_time": "2023-06-11T15:28:00.577Z"
   },
   {
    "duration": 88,
    "start_time": "2023-06-11T15:28:01.388Z"
   },
   {
    "duration": 137,
    "start_time": "2023-06-11T15:28:01.478Z"
   },
   {
    "duration": 88,
    "start_time": "2023-06-11T15:28:01.617Z"
   },
   {
    "duration": 201,
    "start_time": "2023-06-11T15:28:01.707Z"
   },
   {
    "duration": 137867,
    "start_time": "2023-06-11T15:28:01.910Z"
   },
   {
    "duration": 1012,
    "start_time": "2023-06-11T15:30:19.779Z"
   },
   {
    "duration": 410232,
    "start_time": "2023-06-11T15:30:20.877Z"
   },
   {
    "duration": 29979,
    "start_time": "2023-06-11T15:37:11.111Z"
   },
   {
    "duration": 141,
    "start_time": "2023-06-11T15:37:41.092Z"
   },
   {
    "duration": 4,
    "start_time": "2023-06-11T15:37:41.235Z"
   },
   {
    "duration": 355159,
    "start_time": "2023-06-11T15:37:41.241Z"
   },
   {
    "duration": 27479,
    "start_time": "2023-06-11T15:43:36.402Z"
   },
   {
    "duration": 3091,
    "start_time": "2023-06-11T15:44:03.883Z"
   },
   {
    "duration": 5,
    "start_time": "2023-06-11T15:44:06.976Z"
   },
   {
    "duration": 28365,
    "start_time": "2023-06-11T15:44:06.983Z"
   },
   {
    "duration": 147,
    "start_time": "2023-06-11T15:44:35.349Z"
   },
   {
    "duration": 5,
    "start_time": "2023-06-11T15:44:35.498Z"
   },
   {
    "duration": 928276,
    "start_time": "2023-06-11T15:44:35.504Z"
   },
   {
    "duration": 17994,
    "start_time": "2023-06-11T16:00:03.782Z"
   },
   {
    "duration": 1009,
    "start_time": "2023-06-11T16:00:21.778Z"
   },
   {
    "duration": 5,
    "start_time": "2023-06-11T16:00:22.789Z"
   },
   {
    "duration": 434390,
    "start_time": "2023-06-11T16:00:22.795Z"
   },
   {
    "duration": 5998,
    "start_time": "2023-06-11T16:07:37.186Z"
   },
   {
    "duration": 5,
    "start_time": "2023-06-11T16:07:43.185Z"
   },
   {
    "duration": 96,
    "start_time": "2023-06-11T16:07:43.192Z"
   },
   {
    "duration": 0,
    "start_time": "2023-06-11T16:07:43.290Z"
   },
   {
    "duration": 0,
    "start_time": "2023-06-11T16:07:43.292Z"
   },
   {
    "duration": 0,
    "start_time": "2023-06-11T16:07:43.294Z"
   },
   {
    "duration": 0,
    "start_time": "2023-06-11T16:07:43.295Z"
   },
   {
    "duration": 1538,
    "start_time": "2023-06-11T16:33:03.135Z"
   },
   {
    "duration": 805,
    "start_time": "2023-06-11T16:33:04.675Z"
   },
   {
    "duration": 812,
    "start_time": "2023-06-11T16:33:05.482Z"
   },
   {
    "duration": 6,
    "start_time": "2023-06-11T16:33:06.297Z"
   },
   {
    "duration": 493,
    "start_time": "2023-06-11T16:33:06.305Z"
   },
   {
    "duration": 42,
    "start_time": "2023-06-11T16:33:06.800Z"
   },
   {
    "duration": 15,
    "start_time": "2023-06-11T16:33:06.844Z"
   },
   {
    "duration": 30,
    "start_time": "2023-06-11T16:33:06.871Z"
   },
   {
    "duration": 558,
    "start_time": "2023-06-11T16:33:06.903Z"
   },
   {
    "duration": 12,
    "start_time": "2023-06-11T16:33:07.471Z"
   },
   {
    "duration": 46,
    "start_time": "2023-06-11T16:33:07.485Z"
   },
   {
    "duration": 25,
    "start_time": "2023-06-11T16:33:07.533Z"
   },
   {
    "duration": 12,
    "start_time": "2023-06-11T16:33:07.560Z"
   },
   {
    "duration": 127,
    "start_time": "2023-06-11T16:33:07.573Z"
   },
   {
    "duration": 1651,
    "start_time": "2023-06-11T16:33:07.703Z"
   },
   {
    "duration": 770,
    "start_time": "2023-06-11T16:33:09.356Z"
   },
   {
    "duration": 29,
    "start_time": "2023-06-11T16:33:10.129Z"
   },
   {
    "duration": 19,
    "start_time": "2023-06-11T16:33:10.160Z"
   },
   {
    "duration": 542,
    "start_time": "2023-06-11T16:33:10.181Z"
   },
   {
    "duration": 16,
    "start_time": "2023-06-11T16:33:10.724Z"
   },
   {
    "duration": 39,
    "start_time": "2023-06-11T16:33:10.741Z"
   },
   {
    "duration": 8,
    "start_time": "2023-06-11T16:33:10.782Z"
   },
   {
    "duration": 25,
    "start_time": "2023-06-11T16:33:10.792Z"
   },
   {
    "duration": 13,
    "start_time": "2023-06-11T16:33:10.818Z"
   },
   {
    "duration": 58,
    "start_time": "2023-06-11T16:33:10.832Z"
   },
   {
    "duration": 19,
    "start_time": "2023-06-11T16:33:10.892Z"
   },
   {
    "duration": 17,
    "start_time": "2023-06-11T16:33:10.913Z"
   },
   {
    "duration": 55,
    "start_time": "2023-06-11T16:33:10.934Z"
   },
   {
    "duration": 18,
    "start_time": "2023-06-11T16:33:10.991Z"
   },
   {
    "duration": 39,
    "start_time": "2023-06-11T16:33:11.010Z"
   },
   {
    "duration": 48,
    "start_time": "2023-06-11T16:33:11.050Z"
   },
   {
    "duration": 32,
    "start_time": "2023-06-11T16:33:11.100Z"
   },
   {
    "duration": 55,
    "start_time": "2023-06-11T16:33:11.134Z"
   },
   {
    "duration": 40,
    "start_time": "2023-06-11T16:33:11.191Z"
   },
   {
    "duration": 11,
    "start_time": "2023-06-11T16:33:11.233Z"
   },
   {
    "duration": 73,
    "start_time": "2023-06-11T16:33:11.246Z"
   },
   {
    "duration": 609,
    "start_time": "2023-06-11T16:33:11.320Z"
   },
   {
    "duration": 458,
    "start_time": "2023-06-11T16:33:11.931Z"
   },
   {
    "duration": 278,
    "start_time": "2023-06-11T16:33:12.390Z"
   },
   {
    "duration": 5,
    "start_time": "2023-06-11T16:33:12.669Z"
   },
   {
    "duration": 22402,
    "start_time": "2023-06-11T16:33:12.676Z"
   },
   {
    "duration": 793,
    "start_time": "2023-06-11T16:33:35.079Z"
   },
   {
    "duration": 10,
    "start_time": "2023-06-11T16:33:35.874Z"
   },
   {
    "duration": 140,
    "start_time": "2023-06-11T16:33:35.886Z"
   },
   {
    "duration": 47,
    "start_time": "2023-06-11T16:33:36.028Z"
   },
   {
    "duration": 201,
    "start_time": "2023-06-11T16:33:36.077Z"
   },
   {
    "duration": 113706,
    "start_time": "2023-06-11T16:33:36.280Z"
   },
   {
    "duration": 1185,
    "start_time": "2023-06-11T16:35:29.987Z"
   },
   {
    "duration": 384146,
    "start_time": "2023-06-11T16:35:31.173Z"
   },
   {
    "duration": 28659,
    "start_time": "2023-06-11T16:41:55.321Z"
   },
   {
    "duration": 150,
    "start_time": "2023-06-11T16:42:23.982Z"
   },
   {
    "duration": 6,
    "start_time": "2023-06-11T16:42:24.135Z"
   },
   {
    "duration": 351684,
    "start_time": "2023-06-11T16:42:24.142Z"
   },
   {
    "duration": 25882,
    "start_time": "2023-06-11T16:48:15.827Z"
   },
   {
    "duration": 5292,
    "start_time": "2023-06-11T16:48:41.711Z"
   },
   {
    "duration": 7,
    "start_time": "2023-06-11T16:48:47.005Z"
   },
   {
    "duration": 28070,
    "start_time": "2023-06-11T16:48:47.013Z"
   },
   {
    "duration": 131,
    "start_time": "2023-06-11T16:49:15.085Z"
   },
   {
    "duration": 6,
    "start_time": "2023-06-11T16:49:15.218Z"
   },
   {
    "duration": 1554,
    "start_time": "2023-06-11T17:07:06.851Z"
   },
   {
    "duration": 818,
    "start_time": "2023-06-11T17:07:08.407Z"
   },
   {
    "duration": 851,
    "start_time": "2023-06-11T17:07:09.227Z"
   },
   {
    "duration": 7,
    "start_time": "2023-06-11T17:07:10.080Z"
   },
   {
    "duration": 599,
    "start_time": "2023-06-11T17:07:10.089Z"
   },
   {
    "duration": 47,
    "start_time": "2023-06-11T17:07:10.690Z"
   },
   {
    "duration": 14,
    "start_time": "2023-06-11T17:07:10.739Z"
   },
   {
    "duration": 54,
    "start_time": "2023-06-11T17:07:10.755Z"
   },
   {
    "duration": 594,
    "start_time": "2023-06-11T17:07:10.811Z"
   },
   {
    "duration": 12,
    "start_time": "2023-06-11T17:07:11.409Z"
   },
   {
    "duration": 54,
    "start_time": "2023-06-11T17:07:11.423Z"
   },
   {
    "duration": 29,
    "start_time": "2023-06-11T17:07:11.480Z"
   },
   {
    "duration": 8,
    "start_time": "2023-06-11T17:07:11.511Z"
   },
   {
    "duration": 148,
    "start_time": "2023-06-11T17:07:11.521Z"
   },
   {
    "duration": 1768,
    "start_time": "2023-06-11T17:07:11.672Z"
   },
   {
    "duration": 812,
    "start_time": "2023-06-11T17:07:13.442Z"
   },
   {
    "duration": 34,
    "start_time": "2023-06-11T17:07:14.256Z"
   },
   {
    "duration": 8,
    "start_time": "2023-06-11T17:07:14.291Z"
   },
   {
    "duration": 523,
    "start_time": "2023-06-11T17:07:14.301Z"
   },
   {
    "duration": 17,
    "start_time": "2023-06-11T17:07:14.826Z"
   },
   {
    "duration": 42,
    "start_time": "2023-06-11T17:07:14.845Z"
   },
   {
    "duration": 7,
    "start_time": "2023-06-11T17:07:14.888Z"
   },
   {
    "duration": 31,
    "start_time": "2023-06-11T17:07:14.897Z"
   },
   {
    "duration": 12,
    "start_time": "2023-06-11T17:07:14.930Z"
   },
   {
    "duration": 69,
    "start_time": "2023-06-11T17:07:14.944Z"
   },
   {
    "duration": 21,
    "start_time": "2023-06-11T17:07:15.015Z"
   },
   {
    "duration": 38,
    "start_time": "2023-06-11T17:07:15.038Z"
   },
   {
    "duration": 42,
    "start_time": "2023-06-11T17:07:15.081Z"
   },
   {
    "duration": 21,
    "start_time": "2023-06-11T17:07:15.131Z"
   },
   {
    "duration": 56,
    "start_time": "2023-06-11T17:07:15.154Z"
   },
   {
    "duration": 36,
    "start_time": "2023-06-11T17:07:15.212Z"
   },
   {
    "duration": 41,
    "start_time": "2023-06-11T17:07:15.249Z"
   },
   {
    "duration": 56,
    "start_time": "2023-06-11T17:07:15.292Z"
   },
   {
    "duration": 59,
    "start_time": "2023-06-11T17:07:15.349Z"
   },
   {
    "duration": 11,
    "start_time": "2023-06-11T17:07:15.409Z"
   },
   {
    "duration": 64,
    "start_time": "2023-06-11T17:07:15.422Z"
   },
   {
    "duration": 665,
    "start_time": "2023-06-11T17:07:15.489Z"
   },
   {
    "duration": 499,
    "start_time": "2023-06-11T17:07:16.155Z"
   },
   {
    "duration": 360,
    "start_time": "2023-06-11T17:07:16.656Z"
   },
   {
    "duration": 5,
    "start_time": "2023-06-11T17:07:17.018Z"
   },
   {
    "duration": 22557,
    "start_time": "2023-06-11T17:07:17.025Z"
   },
   {
    "duration": 801,
    "start_time": "2023-06-11T17:07:39.585Z"
   },
   {
    "duration": 83,
    "start_time": "2023-06-11T17:07:40.388Z"
   },
   {
    "duration": 101,
    "start_time": "2023-06-11T17:07:40.473Z"
   },
   {
    "duration": 27,
    "start_time": "2023-06-11T17:07:40.578Z"
   },
   {
    "duration": 167,
    "start_time": "2023-06-11T17:07:40.610Z"
   },
   {
    "duration": 100703,
    "start_time": "2023-06-11T17:07:40.778Z"
   },
   {
    "duration": 1001,
    "start_time": "2023-06-11T17:09:21.485Z"
   },
   {
    "duration": 425845,
    "start_time": "2023-06-11T17:09:22.488Z"
   },
   {
    "duration": 31273,
    "start_time": "2023-06-11T17:16:28.334Z"
   },
   {
    "duration": 145,
    "start_time": "2023-06-11T17:16:59.609Z"
   },
   {
    "duration": 5,
    "start_time": "2023-06-11T17:16:59.756Z"
   },
   {
    "duration": 376411,
    "start_time": "2023-06-11T17:16:59.763Z"
   },
   {
    "duration": 26553,
    "start_time": "2023-06-11T17:23:16.176Z"
   },
   {
    "duration": 5781,
    "start_time": "2023-06-11T17:23:42.731Z"
   },
   {
    "duration": 5,
    "start_time": "2023-06-11T17:23:48.513Z"
   },
   {
    "duration": 27501,
    "start_time": "2023-06-11T17:23:48.519Z"
   },
   {
    "duration": 136,
    "start_time": "2023-06-11T17:24:16.021Z"
   },
   {
    "duration": 15,
    "start_time": "2023-06-11T17:24:16.159Z"
   },
   {
    "duration": 1644,
    "start_time": "2023-06-11T19:25:12.772Z"
   },
   {
    "duration": 991,
    "start_time": "2023-06-11T19:25:14.418Z"
   },
   {
    "duration": 850,
    "start_time": "2023-06-11T19:25:15.411Z"
   },
   {
    "duration": 12,
    "start_time": "2023-06-11T19:25:16.263Z"
   },
   {
    "duration": 557,
    "start_time": "2023-06-11T19:25:16.279Z"
   },
   {
    "duration": 60,
    "start_time": "2023-06-11T19:25:16.837Z"
   },
   {
    "duration": 15,
    "start_time": "2023-06-11T19:25:16.898Z"
   },
   {
    "duration": 39,
    "start_time": "2023-06-11T19:25:16.915Z"
   },
   {
    "duration": 604,
    "start_time": "2023-06-11T19:25:16.956Z"
   },
   {
    "duration": 22,
    "start_time": "2023-06-11T19:25:17.562Z"
   },
   {
    "duration": 33,
    "start_time": "2023-06-11T19:25:17.587Z"
   },
   {
    "duration": 25,
    "start_time": "2023-06-11T19:25:17.621Z"
   },
   {
    "duration": 10,
    "start_time": "2023-06-11T19:25:17.671Z"
   },
   {
    "duration": 144,
    "start_time": "2023-06-11T19:25:17.684Z"
   },
   {
    "duration": 1660,
    "start_time": "2023-06-11T19:25:17.829Z"
   },
   {
    "duration": 844,
    "start_time": "2023-06-11T19:25:19.491Z"
   },
   {
    "duration": 27,
    "start_time": "2023-06-11T19:25:20.337Z"
   },
   {
    "duration": 29,
    "start_time": "2023-06-11T19:25:20.373Z"
   },
   {
    "duration": 546,
    "start_time": "2023-06-11T19:25:20.404Z"
   },
   {
    "duration": 36,
    "start_time": "2023-06-11T19:25:20.952Z"
   },
   {
    "duration": 26,
    "start_time": "2023-06-11T19:25:20.990Z"
   },
   {
    "duration": 7,
    "start_time": "2023-06-11T19:25:21.018Z"
   },
   {
    "duration": 47,
    "start_time": "2023-06-11T19:25:21.027Z"
   },
   {
    "duration": 33,
    "start_time": "2023-06-11T19:25:21.076Z"
   },
   {
    "duration": 45,
    "start_time": "2023-06-11T19:25:21.111Z"
   },
   {
    "duration": 33,
    "start_time": "2023-06-11T19:25:21.158Z"
   },
   {
    "duration": 60,
    "start_time": "2023-06-11T19:25:21.193Z"
   },
   {
    "duration": 64,
    "start_time": "2023-06-11T19:25:21.255Z"
   },
   {
    "duration": 19,
    "start_time": "2023-06-11T19:25:21.321Z"
   },
   {
    "duration": 69,
    "start_time": "2023-06-11T19:25:21.342Z"
   },
   {
    "duration": 32,
    "start_time": "2023-06-11T19:25:21.413Z"
   },
   {
    "duration": 62,
    "start_time": "2023-06-11T19:25:21.446Z"
   },
   {
    "duration": 39,
    "start_time": "2023-06-11T19:25:21.510Z"
   },
   {
    "duration": 65,
    "start_time": "2023-06-11T19:25:21.551Z"
   },
   {
    "duration": 11,
    "start_time": "2023-06-11T19:25:21.617Z"
   },
   {
    "duration": 86,
    "start_time": "2023-06-11T19:25:21.630Z"
   },
   {
    "duration": 719,
    "start_time": "2023-06-11T19:25:21.719Z"
   },
   {
    "duration": 515,
    "start_time": "2023-06-11T19:25:22.440Z"
   },
   {
    "duration": 375,
    "start_time": "2023-06-11T19:25:22.957Z"
   },
   {
    "duration": 121,
    "start_time": "2023-06-11T19:25:23.334Z"
   },
   {
    "duration": 0,
    "start_time": "2023-06-11T19:25:23.458Z"
   },
   {
    "duration": 0,
    "start_time": "2023-06-11T19:25:23.459Z"
   },
   {
    "duration": 0,
    "start_time": "2023-06-11T19:25:23.460Z"
   },
   {
    "duration": 0,
    "start_time": "2023-06-11T19:25:23.461Z"
   },
   {
    "duration": 0,
    "start_time": "2023-06-11T19:25:23.477Z"
   },
   {
    "duration": 0,
    "start_time": "2023-06-11T19:25:23.479Z"
   },
   {
    "duration": 0,
    "start_time": "2023-06-11T19:25:23.481Z"
   },
   {
    "duration": 0,
    "start_time": "2023-06-11T19:25:23.483Z"
   },
   {
    "duration": 0,
    "start_time": "2023-06-11T19:25:23.485Z"
   },
   {
    "duration": 0,
    "start_time": "2023-06-11T19:25:23.488Z"
   },
   {
    "duration": 0,
    "start_time": "2023-06-11T19:25:23.489Z"
   },
   {
    "duration": 0,
    "start_time": "2023-06-11T19:25:23.491Z"
   },
   {
    "duration": 0,
    "start_time": "2023-06-11T19:25:23.492Z"
   },
   {
    "duration": 0,
    "start_time": "2023-06-11T19:25:23.494Z"
   },
   {
    "duration": 0,
    "start_time": "2023-06-11T19:25:23.495Z"
   },
   {
    "duration": 0,
    "start_time": "2023-06-11T19:25:23.496Z"
   },
   {
    "duration": 0,
    "start_time": "2023-06-11T19:25:23.497Z"
   },
   {
    "duration": 0,
    "start_time": "2023-06-11T19:25:23.498Z"
   },
   {
    "duration": 0,
    "start_time": "2023-06-11T19:25:23.499Z"
   },
   {
    "duration": 0,
    "start_time": "2023-06-11T19:25:23.500Z"
   },
   {
    "duration": 0,
    "start_time": "2023-06-11T19:25:23.501Z"
   },
   {
    "duration": 0,
    "start_time": "2023-06-11T19:25:23.502Z"
   },
   {
    "duration": 0,
    "start_time": "2023-06-11T19:25:23.503Z"
   },
   {
    "duration": 0,
    "start_time": "2023-06-11T19:25:23.504Z"
   },
   {
    "duration": 0,
    "start_time": "2023-06-11T19:25:23.505Z"
   },
   {
    "duration": 0,
    "start_time": "2023-06-11T19:25:23.506Z"
   },
   {
    "duration": 0,
    "start_time": "2023-06-11T19:25:23.507Z"
   },
   {
    "duration": 0,
    "start_time": "2023-06-11T19:25:23.508Z"
   },
   {
    "duration": 0,
    "start_time": "2023-06-11T19:25:23.509Z"
   },
   {
    "duration": 0,
    "start_time": "2023-06-11T19:25:23.510Z"
   },
   {
    "duration": 0,
    "start_time": "2023-06-11T19:25:23.511Z"
   },
   {
    "duration": 0,
    "start_time": "2023-06-11T19:25:23.512Z"
   },
   {
    "duration": 0,
    "start_time": "2023-06-11T19:25:23.513Z"
   },
   {
    "duration": 0,
    "start_time": "2023-06-11T19:25:23.514Z"
   },
   {
    "duration": 0,
    "start_time": "2023-06-11T19:25:23.515Z"
   },
   {
    "duration": 1520,
    "start_time": "2023-06-11T19:42:56.647Z"
   },
   {
    "duration": 886,
    "start_time": "2023-06-11T19:42:58.169Z"
   },
   {
    "duration": 839,
    "start_time": "2023-06-11T19:42:59.057Z"
   },
   {
    "duration": 7,
    "start_time": "2023-06-11T19:42:59.898Z"
   },
   {
    "duration": 533,
    "start_time": "2023-06-11T19:42:59.907Z"
   },
   {
    "duration": 58,
    "start_time": "2023-06-11T19:43:00.442Z"
   },
   {
    "duration": 78,
    "start_time": "2023-06-11T19:43:00.502Z"
   },
   {
    "duration": 67,
    "start_time": "2023-06-11T19:43:00.583Z"
   },
   {
    "duration": 624,
    "start_time": "2023-06-11T19:43:00.653Z"
   },
   {
    "duration": 13,
    "start_time": "2023-06-11T19:43:01.279Z"
   },
   {
    "duration": 112,
    "start_time": "2023-06-11T19:43:01.294Z"
   },
   {
    "duration": 147,
    "start_time": "2023-06-11T19:43:01.408Z"
   },
   {
    "duration": 82,
    "start_time": "2023-06-11T19:43:01.557Z"
   },
   {
    "duration": 233,
    "start_time": "2023-06-11T19:43:01.643Z"
   },
   {
    "duration": 1714,
    "start_time": "2023-06-11T19:43:01.877Z"
   },
   {
    "duration": 807,
    "start_time": "2023-06-11T19:43:03.593Z"
   },
   {
    "duration": 25,
    "start_time": "2023-06-11T19:43:04.401Z"
   },
   {
    "duration": 11,
    "start_time": "2023-06-11T19:43:04.427Z"
   },
   {
    "duration": 522,
    "start_time": "2023-06-11T19:43:04.439Z"
   },
   {
    "duration": 24,
    "start_time": "2023-06-11T19:43:04.963Z"
   },
   {
    "duration": 34,
    "start_time": "2023-06-11T19:43:04.988Z"
   },
   {
    "duration": 6,
    "start_time": "2023-06-11T19:43:05.024Z"
   },
   {
    "duration": 45,
    "start_time": "2023-06-11T19:43:05.032Z"
   },
   {
    "duration": 38,
    "start_time": "2023-06-11T19:43:05.079Z"
   },
   {
    "duration": 62,
    "start_time": "2023-06-11T19:43:05.119Z"
   },
   {
    "duration": 121,
    "start_time": "2023-06-11T19:43:05.182Z"
   },
   {
    "duration": 29,
    "start_time": "2023-06-11T19:43:05.305Z"
   },
   {
    "duration": 48,
    "start_time": "2023-06-11T19:43:05.336Z"
   },
   {
    "duration": 19,
    "start_time": "2023-06-11T19:43:05.386Z"
   },
   {
    "duration": 46,
    "start_time": "2023-06-11T19:43:05.406Z"
   },
   {
    "duration": 41,
    "start_time": "2023-06-11T19:43:05.453Z"
   },
   {
    "duration": 33,
    "start_time": "2023-06-11T19:43:05.496Z"
   },
   {
    "duration": 82,
    "start_time": "2023-06-11T19:43:05.531Z"
   },
   {
    "duration": 59,
    "start_time": "2023-06-11T19:43:05.614Z"
   },
   {
    "duration": 13,
    "start_time": "2023-06-11T19:43:05.675Z"
   },
   {
    "duration": 70,
    "start_time": "2023-06-11T19:43:05.689Z"
   },
   {
    "duration": 909,
    "start_time": "2023-06-11T19:43:05.761Z"
   },
   {
    "duration": 499,
    "start_time": "2023-06-11T19:43:06.672Z"
   },
   {
    "duration": 386,
    "start_time": "2023-06-11T19:43:07.174Z"
   },
   {
    "duration": 9,
    "start_time": "2023-06-11T19:43:07.562Z"
   },
   {
    "duration": 22902,
    "start_time": "2023-06-11T19:43:07.576Z"
   },
   {
    "duration": 893,
    "start_time": "2023-06-11T19:43:30.481Z"
   },
   {
    "duration": 7,
    "start_time": "2023-06-11T19:43:31.377Z"
   },
   {
    "duration": 141,
    "start_time": "2023-06-11T19:43:31.385Z"
   },
   {
    "duration": 57,
    "start_time": "2023-06-11T19:43:31.528Z"
   },
   {
    "duration": 199,
    "start_time": "2023-06-11T19:43:31.587Z"
   },
   {
    "duration": 102185,
    "start_time": "2023-06-11T19:43:31.788Z"
   },
   {
    "duration": 1104,
    "start_time": "2023-06-11T19:45:13.975Z"
   },
   {
    "duration": 386191,
    "start_time": "2023-06-11T19:45:15.080Z"
   },
   {
    "duration": 29141,
    "start_time": "2023-06-11T19:51:41.278Z"
   },
   {
    "duration": 233,
    "start_time": "2023-06-11T19:52:10.422Z"
   },
   {
    "duration": 16,
    "start_time": "2023-06-11T19:52:10.657Z"
   },
   {
    "duration": 401978,
    "start_time": "2023-06-11T19:52:10.684Z"
   },
   {
    "duration": 30867,
    "start_time": "2023-06-11T19:58:52.664Z"
   },
   {
    "duration": 76,
    "start_time": "2023-06-11T19:59:23.533Z"
   },
   {
    "duration": 5,
    "start_time": "2023-06-11T19:59:23.611Z"
   },
   {
    "duration": 31308,
    "start_time": "2023-06-11T19:59:23.617Z"
   },
   {
    "duration": 192,
    "start_time": "2023-06-11T19:59:54.927Z"
   },
   {
    "duration": 7,
    "start_time": "2023-06-11T19:59:55.121Z"
   },
   {
    "duration": 2136042,
    "start_time": "2023-06-11T19:59:55.131Z"
   },
   {
    "duration": 16312,
    "start_time": "2023-06-11T20:35:31.174Z"
   },
   {
    "duration": 919,
    "start_time": "2023-06-11T20:35:47.488Z"
   },
   {
    "duration": 66,
    "start_time": "2023-06-11T20:35:48.409Z"
   },
   {
    "duration": 527808,
    "start_time": "2023-06-11T20:35:48.477Z"
   },
   {
    "duration": 5893,
    "start_time": "2023-06-11T20:44:36.286Z"
   },
   {
    "duration": 592,
    "start_time": "2023-06-11T20:44:42.181Z"
   },
   {
    "duration": 6,
    "start_time": "2023-06-11T20:44:42.776Z"
   },
   {
    "duration": 154,
    "start_time": "2023-06-11T20:44:42.784Z"
   },
   {
    "duration": 0,
    "start_time": "2023-06-11T20:44:42.939Z"
   },
   {
    "duration": 0,
    "start_time": "2023-06-11T20:44:42.940Z"
   },
   {
    "duration": 0,
    "start_time": "2023-06-11T20:44:42.941Z"
   },
   {
    "duration": 0,
    "start_time": "2023-06-11T20:44:42.942Z"
   },
   {
    "duration": 0,
    "start_time": "2023-06-11T20:44:42.943Z"
   },
   {
    "duration": 0,
    "start_time": "2023-06-11T20:44:42.944Z"
   },
   {
    "duration": 0,
    "start_time": "2023-06-11T20:44:42.945Z"
   },
   {
    "duration": 1424,
    "start_time": "2023-06-11T22:13:50.543Z"
   },
   {
    "duration": 760,
    "start_time": "2023-06-11T22:13:51.969Z"
   },
   {
    "duration": 750,
    "start_time": "2023-06-11T22:13:52.730Z"
   },
   {
    "duration": 6,
    "start_time": "2023-06-11T22:13:53.482Z"
   },
   {
    "duration": 507,
    "start_time": "2023-06-11T22:13:53.490Z"
   },
   {
    "duration": 50,
    "start_time": "2023-06-11T22:13:53.999Z"
   },
   {
    "duration": 57,
    "start_time": "2023-06-11T22:13:54.050Z"
   },
   {
    "duration": 53,
    "start_time": "2023-06-11T22:13:54.109Z"
   },
   {
    "duration": 634,
    "start_time": "2023-06-11T22:13:54.164Z"
   },
   {
    "duration": 12,
    "start_time": "2023-06-11T22:13:54.802Z"
   },
   {
    "duration": 38,
    "start_time": "2023-06-11T22:13:54.816Z"
   },
   {
    "duration": 40,
    "start_time": "2023-06-11T22:13:54.856Z"
   },
   {
    "duration": 9,
    "start_time": "2023-06-11T22:13:54.898Z"
   },
   {
    "duration": 150,
    "start_time": "2023-06-11T22:13:54.909Z"
   },
   {
    "duration": 1829,
    "start_time": "2023-06-11T22:13:55.062Z"
   },
   {
    "duration": 838,
    "start_time": "2023-06-11T22:13:56.894Z"
   },
   {
    "duration": 27,
    "start_time": "2023-06-11T22:13:57.734Z"
   },
   {
    "duration": 20,
    "start_time": "2023-06-11T22:13:57.771Z"
   },
   {
    "duration": 549,
    "start_time": "2023-06-11T22:13:57.793Z"
   },
   {
    "duration": 30,
    "start_time": "2023-06-11T22:13:58.345Z"
   },
   {
    "duration": 25,
    "start_time": "2023-06-11T22:13:58.378Z"
   },
   {
    "duration": 7,
    "start_time": "2023-06-11T22:13:58.405Z"
   },
   {
    "duration": 34,
    "start_time": "2023-06-11T22:13:58.414Z"
   },
   {
    "duration": 33,
    "start_time": "2023-06-11T22:13:58.450Z"
   },
   {
    "duration": 46,
    "start_time": "2023-06-11T22:13:58.485Z"
   },
   {
    "duration": 20,
    "start_time": "2023-06-11T22:13:58.533Z"
   },
   {
    "duration": 49,
    "start_time": "2023-06-11T22:13:58.555Z"
   },
   {
    "duration": 39,
    "start_time": "2023-06-11T22:13:58.608Z"
   },
   {
    "duration": 20,
    "start_time": "2023-06-11T22:13:58.649Z"
   },
   {
    "duration": 44,
    "start_time": "2023-06-11T22:13:58.671Z"
   },
   {
    "duration": 35,
    "start_time": "2023-06-11T22:13:58.717Z"
   },
   {
    "duration": 55,
    "start_time": "2023-06-11T22:13:58.754Z"
   },
   {
    "duration": 45,
    "start_time": "2023-06-11T22:13:58.811Z"
   },
   {
    "duration": 56,
    "start_time": "2023-06-11T22:13:58.857Z"
   },
   {
    "duration": 11,
    "start_time": "2023-06-11T22:13:58.915Z"
   },
   {
    "duration": 65,
    "start_time": "2023-06-11T22:13:58.928Z"
   },
   {
    "duration": 838,
    "start_time": "2023-06-11T22:13:58.995Z"
   },
   {
    "duration": 368,
    "start_time": "2023-06-11T22:13:59.835Z"
   },
   {
    "duration": 6,
    "start_time": "2023-06-11T22:14:00.204Z"
   },
   {
    "duration": 17071,
    "start_time": "2023-06-11T22:14:00.211Z"
   },
   {
    "duration": 700,
    "start_time": "2023-06-11T22:14:17.373Z"
   },
   {
    "duration": 6,
    "start_time": "2023-06-11T22:14:18.075Z"
   },
   {
    "duration": 61,
    "start_time": "2023-06-11T22:14:18.172Z"
   },
   {
    "duration": 44,
    "start_time": "2023-06-11T22:14:18.234Z"
   },
   {
    "duration": 99,
    "start_time": "2023-06-11T22:14:18.279Z"
   },
   {
    "duration": 73296,
    "start_time": "2023-06-11T22:14:18.380Z"
   },
   {
    "duration": 1095,
    "start_time": "2023-06-11T22:15:31.678Z"
   },
   {
    "duration": 344395,
    "start_time": "2023-06-11T22:15:32.774Z"
   },
   {
    "duration": 24577,
    "start_time": "2023-06-11T22:21:17.171Z"
   },
   {
    "duration": 143,
    "start_time": "2023-06-11T22:21:41.750Z"
   },
   {
    "duration": 5,
    "start_time": "2023-06-11T22:21:41.895Z"
   },
   {
    "duration": 328950,
    "start_time": "2023-06-11T22:21:41.902Z"
   },
   {
    "duration": 24934,
    "start_time": "2023-06-11T22:27:10.854Z"
   },
   {
    "duration": 67,
    "start_time": "2023-06-11T22:27:35.789Z"
   },
   {
    "duration": 5,
    "start_time": "2023-06-11T22:27:35.858Z"
   },
   {
    "duration": 27332,
    "start_time": "2023-06-11T22:27:35.864Z"
   },
   {
    "duration": 133,
    "start_time": "2023-06-11T22:28:03.197Z"
   },
   {
    "duration": 5,
    "start_time": "2023-06-11T22:28:03.332Z"
   },
   {
    "duration": 568541,
    "start_time": "2023-06-11T22:28:03.338Z"
   },
   {
    "duration": 13594,
    "start_time": "2023-06-11T22:37:31.880Z"
   },
   {
    "duration": 909,
    "start_time": "2023-06-11T22:37:45.475Z"
   },
   {
    "duration": 5,
    "start_time": "2023-06-11T22:37:46.386Z"
   },
   {
    "duration": 382795,
    "start_time": "2023-06-11T22:37:46.392Z"
   },
   {
    "duration": 6311,
    "start_time": "2023-06-11T22:44:09.273Z"
   },
   {
    "duration": 496,
    "start_time": "2023-06-11T22:44:15.586Z"
   },
   {
    "duration": 5,
    "start_time": "2023-06-11T22:44:16.084Z"
   },
   {
    "duration": 169,
    "start_time": "2023-06-11T22:44:16.091Z"
   },
   {
    "duration": 0,
    "start_time": "2023-06-11T22:44:16.262Z"
   },
   {
    "duration": 0,
    "start_time": "2023-06-11T22:44:16.263Z"
   },
   {
    "duration": 0,
    "start_time": "2023-06-11T22:44:16.265Z"
   },
   {
    "duration": 0,
    "start_time": "2023-06-11T22:44:16.271Z"
   },
   {
    "duration": 0,
    "start_time": "2023-06-11T22:44:16.272Z"
   },
   {
    "duration": 0,
    "start_time": "2023-06-11T22:44:16.274Z"
   },
   {
    "duration": 0,
    "start_time": "2023-06-11T22:44:16.275Z"
   },
   {
    "duration": 16,
    "start_time": "2023-06-11T22:56:12.663Z"
   },
   {
    "duration": 14,
    "start_time": "2023-06-11T22:59:16.541Z"
   },
   {
    "duration": 309,
    "start_time": "2023-06-11T22:59:28.963Z"
   },
   {
    "duration": 333,
    "start_time": "2023-06-11T22:59:46.495Z"
   },
   {
    "duration": 311,
    "start_time": "2023-06-11T23:00:15.132Z"
   },
   {
    "duration": 14,
    "start_time": "2023-06-11T23:00:25.936Z"
   },
   {
    "duration": 318,
    "start_time": "2023-06-11T23:00:30.977Z"
   },
   {
    "duration": 11379,
    "start_time": "2023-06-11T23:00:32.908Z"
   },
   {
    "duration": 899,
    "start_time": "2023-06-11T23:00:44.289Z"
   },
   {
    "duration": 4,
    "start_time": "2023-06-11T23:00:45.190Z"
   },
   {
    "duration": 11110,
    "start_time": "2023-06-11T23:04:00.978Z"
   },
   {
    "duration": 794,
    "start_time": "2023-06-11T23:04:12.090Z"
   },
   {
    "duration": 5,
    "start_time": "2023-06-11T23:04:12.886Z"
   },
   {
    "duration": 10,
    "start_time": "2023-06-11T23:06:10.719Z"
   },
   {
    "duration": 16,
    "start_time": "2023-06-11T23:06:45.348Z"
   },
   {
    "duration": 12554,
    "start_time": "2023-06-11T23:06:56.336Z"
   },
   {
    "duration": 878,
    "start_time": "2023-06-11T23:07:13.195Z"
   },
   {
    "duration": 5,
    "start_time": "2023-06-11T23:07:15.949Z"
   },
   {
    "duration": 13798,
    "start_time": "2023-06-11T23:07:17.782Z"
   },
   {
    "duration": 801,
    "start_time": "2023-06-11T23:07:31.582Z"
   },
   {
    "duration": 4,
    "start_time": "2023-06-11T23:07:32.385Z"
   },
   {
    "duration": 16,
    "start_time": "2023-06-11T23:07:32.391Z"
   }
  ],
  "kernelspec": {
   "display_name": "Python 3 (ipykernel)",
   "language": "python",
   "name": "python3"
  },
  "language_info": {
   "codemirror_mode": {
    "name": "ipython",
    "version": 3
   },
   "file_extension": ".py",
   "mimetype": "text/x-python",
   "name": "python",
   "nbconvert_exporter": "python",
   "pygments_lexer": "ipython3",
   "version": "3.9.5"
  },
  "toc": {
   "base_numbering": 1,
   "nav_menu": {},
   "number_sections": true,
   "sideBar": true,
   "skip_h1_title": true,
   "title_cell": "Table of Contents",
   "title_sidebar": "Contents",
   "toc_cell": false,
   "toc_position": {},
   "toc_section_display": true,
   "toc_window_display": false
  }
 },
 "nbformat": 4,
 "nbformat_minor": 2
}
